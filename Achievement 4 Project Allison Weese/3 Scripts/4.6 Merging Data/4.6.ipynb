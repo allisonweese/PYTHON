{
 "cells": [
  {
   "cell_type": "markdown",
   "id": "db863b4e-7bb2-4485-9281-2344c9d54b26",
   "metadata": {},
   "source": [
    "# This Script Contains the Following Data Points\n",
    "# Assignment 4.6 Data Analysis Immersion\n",
    "## 1. Import Libraries and Set Path\n",
    "## 2. Import Prior Orders and Orders Dataframes\n",
    "## 3. Create New Dataframe\n",
    "## 4. Import Products Data\n",
    "## 5. Merge Data"
   ]
  },
  {
   "cell_type": "markdown",
   "id": "1a6bd3c7-c424-4406-9d3a-89353eae7d1c",
   "metadata": {},
   "source": [
    "### 1. Import Libaries and Set Path"
   ]
  },
  {
   "cell_type": "code",
   "execution_count": 1,
   "id": "5752b197-8117-493c-8406-a978d4567ddc",
   "metadata": {},
   "outputs": [],
   "source": [
    "# Import Libraries \n",
    "import pandas as pd \n",
    "import numpy as np \n",
    "import os"
   ]
  },
  {
   "cell_type": "code",
   "execution_count": 2,
   "id": "9f71675f-e0c2-494f-a5db-fe7ca23e0f1c",
   "metadata": {},
   "outputs": [],
   "source": [
    "# Set Path\n",
    "path = r'/Users/allisonweese/Documents/Achievement 4 Project Allison Weese/'"
   ]
  },
  {
   "cell_type": "markdown",
   "id": "c48dd706-09c9-46d7-a692-f7c8b5d548e1",
   "metadata": {},
   "source": [
    "### 2. Import Prior Orders and Orders Dataframes"
   ]
  },
  {
   "cell_type": "code",
   "execution_count": 4,
   "id": "f879f93c-1857-4bac-91ba-922fdf8c5810",
   "metadata": {},
   "outputs": [],
   "source": [
    "# Import Orders\n",
    "df_ords = pd.read_csv(os.path.join(path, '2 Data', 'Prepared Data', 'orders_checkedjul16.csv'), index_col = False)"
   ]
  },
  {
   "cell_type": "code",
   "execution_count": 7,
   "id": "af2870a3-484f-42ba-ae36-02d06316f649",
   "metadata": {},
   "outputs": [],
   "source": [
    "# Import Prior Orders\n",
    "df_ords_prior = pd.read_csv(os.path.join(path, '2 Data', 'Original Data', 'orders_products_prior.csv'), index_col = False)"
   ]
  },
  {
   "cell_type": "code",
   "execution_count": 8,
   "id": "5123263e-406d-468a-bae3-8c9e7a8f17da",
   "metadata": {},
   "outputs": [
    {
     "data": {
      "text/html": [
       "<div>\n",
       "<style scoped>\n",
       "    .dataframe tbody tr th:only-of-type {\n",
       "        vertical-align: middle;\n",
       "    }\n",
       "\n",
       "    .dataframe tbody tr th {\n",
       "        vertical-align: top;\n",
       "    }\n",
       "\n",
       "    .dataframe thead th {\n",
       "        text-align: right;\n",
       "    }\n",
       "</style>\n",
       "<table border=\"1\" class=\"dataframe\">\n",
       "  <thead>\n",
       "    <tr style=\"text-align: right;\">\n",
       "      <th></th>\n",
       "      <th>order_id</th>\n",
       "      <th>product_id</th>\n",
       "      <th>add_to_cart_order</th>\n",
       "      <th>reordered</th>\n",
       "    </tr>\n",
       "  </thead>\n",
       "  <tbody>\n",
       "    <tr>\n",
       "      <th>0</th>\n",
       "      <td>2</td>\n",
       "      <td>33120</td>\n",
       "      <td>1</td>\n",
       "      <td>1</td>\n",
       "    </tr>\n",
       "    <tr>\n",
       "      <th>1</th>\n",
       "      <td>2</td>\n",
       "      <td>28985</td>\n",
       "      <td>2</td>\n",
       "      <td>1</td>\n",
       "    </tr>\n",
       "    <tr>\n",
       "      <th>2</th>\n",
       "      <td>2</td>\n",
       "      <td>9327</td>\n",
       "      <td>3</td>\n",
       "      <td>0</td>\n",
       "    </tr>\n",
       "    <tr>\n",
       "      <th>3</th>\n",
       "      <td>2</td>\n",
       "      <td>45918</td>\n",
       "      <td>4</td>\n",
       "      <td>1</td>\n",
       "    </tr>\n",
       "    <tr>\n",
       "      <th>4</th>\n",
       "      <td>2</td>\n",
       "      <td>30035</td>\n",
       "      <td>5</td>\n",
       "      <td>0</td>\n",
       "    </tr>\n",
       "  </tbody>\n",
       "</table>\n",
       "</div>"
      ],
      "text/plain": [
       "   order_id  product_id  add_to_cart_order  reordered\n",
       "0         2       33120                  1          1\n",
       "1         2       28985                  2          1\n",
       "2         2        9327                  3          0\n",
       "3         2       45918                  4          1\n",
       "4         2       30035                  5          0"
      ]
     },
     "execution_count": 8,
     "metadata": {},
     "output_type": "execute_result"
    }
   ],
   "source": [
    "# Check the output\n",
    "df_ords_prior.head()"
   ]
  },
  {
   "cell_type": "code",
   "execution_count": 9,
   "id": "5db327e9-3462-457e-927a-103d6785b78a",
   "metadata": {},
   "outputs": [
    {
     "data": {
      "text/plain": [
       "(32434489, 4)"
      ]
     },
     "execution_count": 9,
     "metadata": {},
     "output_type": "execute_result"
    }
   ],
   "source": [
    "# Check shape of Ords Prior\n",
    "df_ords_prior.shape"
   ]
  },
  {
   "cell_type": "code",
   "execution_count": 10,
   "id": "b6d9e032-7d85-43b1-b720-5e99659749d6",
   "metadata": {},
   "outputs": [
    {
     "data": {
      "text/plain": [
       "(3421083, 10)"
      ]
     },
     "execution_count": 10,
     "metadata": {},
     "output_type": "execute_result"
    }
   ],
   "source": [
    "# Check shape of Ords\n",
    "df_ords.shape"
   ]
  },
  {
   "cell_type": "markdown",
   "id": "10a6ccd4-cec3-4812-9c12-61d8d4485b83",
   "metadata": {},
   "source": [
    "### 3. Create New Dataframe"
   ]
  },
  {
   "cell_type": "code",
   "execution_count": 11,
   "id": "29214fe7-101a-420a-b499-4c70dddfdb9f",
   "metadata": {},
   "outputs": [],
   "source": [
    "# Create new dataframe\n",
    "df_merged_large = pd.merge(df_ords_prior, df_ords, on='order_id', how='outer', indicator=True)"
   ]
  },
  {
   "cell_type": "code",
   "execution_count": 12,
   "id": "5788a5f2-bef1-46c4-8b80-912c326b89b7",
   "metadata": {},
   "outputs": [
    {
     "data": {
      "text/plain": [
       "_merge\n",
       "both          32434489\n",
       "right_only      206209\n",
       "left_only            0\n",
       "Name: count, dtype: int64"
      ]
     },
     "execution_count": 12,
     "metadata": {},
     "output_type": "execute_result"
    }
   ],
   "source": [
    "# Check values\n",
    "df_merged_large['_merge'].value_counts()"
   ]
  },
  {
   "cell_type": "code",
   "execution_count": 18,
   "id": "0e5f34c4-ab0e-4177-b9fc-304d0e3982d5",
   "metadata": {},
   "outputs": [
    {
     "data": {
      "text/plain": [
       "(32640698, 14)"
      ]
     },
     "execution_count": 18,
     "metadata": {},
     "output_type": "execute_result"
    }
   ],
   "source": [
    "# Check shape\n",
    "df_merged_large.shape"
   ]
  },
  {
   "cell_type": "markdown",
   "id": "24f0adb9-5de7-4243-aedb-1dde57d0cb87",
   "metadata": {},
   "source": [
    "### 4. Import Products Data"
   ]
  },
  {
   "cell_type": "code",
   "execution_count": 16,
   "id": "ffd491c0-2ccf-43f7-83dd-17dc442c9aa3",
   "metadata": {},
   "outputs": [],
   "source": [
    "df_prods = pd.read_csv(os.path.join(path, '2 Data', 'Prepared Data', 'products_checkedjul16.csv'), index_col = False)"
   ]
  },
  {
   "cell_type": "code",
   "execution_count": 17,
   "id": "f28b2602-4ebe-4b85-af9d-0be60612042e",
   "metadata": {},
   "outputs": [
    {
     "data": {
      "text/plain": [
       "(49672, 6)"
      ]
     },
     "execution_count": 17,
     "metadata": {},
     "output_type": "execute_result"
    }
   ],
   "source": [
    "# Check Shape\n",
    "df_prods.shape"
   ]
  },
  {
   "cell_type": "code",
   "execution_count": 20,
   "id": "a7807beb-b517-4e6b-a20b-e9fb5463880c",
   "metadata": {},
   "outputs": [
    {
     "data": {
      "text/plain": [
       "Index(['Unnamed: 0', 'product_id', 'product_name', 'aisle_id', 'department_id',\n",
       "       'prices'],\n",
       "      dtype='object')"
      ]
     },
     "execution_count": 20,
     "metadata": {},
     "output_type": "execute_result"
    }
   ],
   "source": [
    "df_prods.columns"
   ]
  },
  {
   "cell_type": "code",
   "execution_count": 21,
   "id": "8229e834-a3c5-42fe-8119-fb89ab7d169e",
   "metadata": {},
   "outputs": [
    {
     "data": {
      "text/plain": [
       "Index(['order_id', 'product_id', 'add_to_cart_order', 'reordered',\n",
       "       'Unnamed: 0.1', 'Unnamed: 0', 'user_id', 'eval_set', 'order_number',\n",
       "       'orders_day_of_week', 'order_hour_of_day', 'days_since_prior_order',\n",
       "       'order_dow', '_merge'],\n",
       "      dtype='object')"
      ]
     },
     "execution_count": 21,
     "metadata": {},
     "output_type": "execute_result"
    }
   ],
   "source": [
    "df_merged_large.columns"
   ]
  },
  {
   "cell_type": "markdown",
   "id": "af17773b-c545-46eb-bb72-70f2fe2e2fc7",
   "metadata": {},
   "source": [
    "### 5. Merge Data"
   ]
  },
  {
   "cell_type": "code",
   "execution_count": 22,
   "id": "1fd66c60-93c8-424a-afdd-44276dc20e7b",
   "metadata": {},
   "outputs": [],
   "source": [
    "# Merge data\n",
    "df_combined = pd.merge(df_merged_large, df_prods, on='product_id', how='left')"
   ]
  },
  {
   "cell_type": "code",
   "execution_count": 23,
   "id": "95ee4db4-ac4d-4b7e-a2ce-f33585487d5f",
   "metadata": {},
   "outputs": [],
   "source": [
    "# Check counts\n",
    "merge_counts = df_combined['_merge'].value_counts()"
   ]
  },
  {
   "cell_type": "code",
   "execution_count": 24,
   "id": "9a0f6af5-bbba-4a19-a1d5-ff94cd5fd8e3",
   "metadata": {},
   "outputs": [
    {
     "data": {
      "text/plain": [
       "_merge\n",
       "both          32435059\n",
       "right_only      206209\n",
       "left_only            0\n",
       "Name: count, dtype: int64"
      ]
     },
     "execution_count": 24,
     "metadata": {},
     "output_type": "execute_result"
    }
   ],
   "source": [
    "merge_counts"
   ]
  },
  {
   "cell_type": "code",
   "execution_count": 25,
   "id": "941c4b89-2b95-41d7-83c9-0cbe96b42b77",
   "metadata": {},
   "outputs": [
    {
     "data": {
      "text/html": [
       "<div>\n",
       "<style scoped>\n",
       "    .dataframe tbody tr th:only-of-type {\n",
       "        vertical-align: middle;\n",
       "    }\n",
       "\n",
       "    .dataframe tbody tr th {\n",
       "        vertical-align: top;\n",
       "    }\n",
       "\n",
       "    .dataframe thead th {\n",
       "        text-align: right;\n",
       "    }\n",
       "</style>\n",
       "<table border=\"1\" class=\"dataframe\">\n",
       "  <thead>\n",
       "    <tr style=\"text-align: right;\">\n",
       "      <th></th>\n",
       "      <th>order_id</th>\n",
       "      <th>product_id</th>\n",
       "      <th>add_to_cart_order</th>\n",
       "      <th>reordered</th>\n",
       "      <th>Unnamed: 0.1</th>\n",
       "      <th>Unnamed: 0_x</th>\n",
       "      <th>user_id</th>\n",
       "      <th>eval_set</th>\n",
       "      <th>order_number</th>\n",
       "      <th>orders_day_of_week</th>\n",
       "      <th>order_hour_of_day</th>\n",
       "      <th>days_since_prior_order</th>\n",
       "      <th>order_dow</th>\n",
       "      <th>_merge</th>\n",
       "      <th>Unnamed: 0_y</th>\n",
       "      <th>product_name</th>\n",
       "      <th>aisle_id</th>\n",
       "      <th>department_id</th>\n",
       "      <th>prices</th>\n",
       "    </tr>\n",
       "  </thead>\n",
       "  <tbody>\n",
       "    <tr>\n",
       "      <th>0</th>\n",
       "      <td>1</td>\n",
       "      <td>NaN</td>\n",
       "      <td>NaN</td>\n",
       "      <td>NaN</td>\n",
       "      <td>1868044</td>\n",
       "      <td>1868044</td>\n",
       "      <td>112108</td>\n",
       "      <td>train</td>\n",
       "      <td>4</td>\n",
       "      <td>4</td>\n",
       "      <td>10</td>\n",
       "      <td>9.0</td>\n",
       "      <td>4</td>\n",
       "      <td>right_only</td>\n",
       "      <td>NaN</td>\n",
       "      <td>NaN</td>\n",
       "      <td>NaN</td>\n",
       "      <td>NaN</td>\n",
       "      <td>NaN</td>\n",
       "    </tr>\n",
       "    <tr>\n",
       "      <th>1</th>\n",
       "      <td>2</td>\n",
       "      <td>33120.0</td>\n",
       "      <td>1.0</td>\n",
       "      <td>1.0</td>\n",
       "      <td>3355525</td>\n",
       "      <td>3355525</td>\n",
       "      <td>202279</td>\n",
       "      <td>prior</td>\n",
       "      <td>3</td>\n",
       "      <td>5</td>\n",
       "      <td>9</td>\n",
       "      <td>8.0</td>\n",
       "      <td>5</td>\n",
       "      <td>both</td>\n",
       "      <td>33122.0</td>\n",
       "      <td>Organic Egg Whites</td>\n",
       "      <td>86.0</td>\n",
       "      <td>16.0</td>\n",
       "      <td>11.3</td>\n",
       "    </tr>\n",
       "    <tr>\n",
       "      <th>2</th>\n",
       "      <td>2</td>\n",
       "      <td>28985.0</td>\n",
       "      <td>2.0</td>\n",
       "      <td>1.0</td>\n",
       "      <td>3355525</td>\n",
       "      <td>3355525</td>\n",
       "      <td>202279</td>\n",
       "      <td>prior</td>\n",
       "      <td>3</td>\n",
       "      <td>5</td>\n",
       "      <td>9</td>\n",
       "      <td>8.0</td>\n",
       "      <td>5</td>\n",
       "      <td>both</td>\n",
       "      <td>28987.0</td>\n",
       "      <td>Michigan Organic Kale</td>\n",
       "      <td>83.0</td>\n",
       "      <td>4.0</td>\n",
       "      <td>13.4</td>\n",
       "    </tr>\n",
       "    <tr>\n",
       "      <th>3</th>\n",
       "      <td>2</td>\n",
       "      <td>9327.0</td>\n",
       "      <td>3.0</td>\n",
       "      <td>0.0</td>\n",
       "      <td>3355525</td>\n",
       "      <td>3355525</td>\n",
       "      <td>202279</td>\n",
       "      <td>prior</td>\n",
       "      <td>3</td>\n",
       "      <td>5</td>\n",
       "      <td>9</td>\n",
       "      <td>8.0</td>\n",
       "      <td>5</td>\n",
       "      <td>both</td>\n",
       "      <td>9327.0</td>\n",
       "      <td>Garlic Powder</td>\n",
       "      <td>104.0</td>\n",
       "      <td>13.0</td>\n",
       "      <td>3.6</td>\n",
       "    </tr>\n",
       "    <tr>\n",
       "      <th>4</th>\n",
       "      <td>2</td>\n",
       "      <td>45918.0</td>\n",
       "      <td>4.0</td>\n",
       "      <td>1.0</td>\n",
       "      <td>3355525</td>\n",
       "      <td>3355525</td>\n",
       "      <td>202279</td>\n",
       "      <td>prior</td>\n",
       "      <td>3</td>\n",
       "      <td>5</td>\n",
       "      <td>9</td>\n",
       "      <td>8.0</td>\n",
       "      <td>5</td>\n",
       "      <td>both</td>\n",
       "      <td>45922.0</td>\n",
       "      <td>Coconut Butter</td>\n",
       "      <td>19.0</td>\n",
       "      <td>13.0</td>\n",
       "      <td>8.4</td>\n",
       "    </tr>\n",
       "  </tbody>\n",
       "</table>\n",
       "</div>"
      ],
      "text/plain": [
       "   order_id  product_id  add_to_cart_order  reordered  Unnamed: 0.1  \\\n",
       "0         1         NaN                NaN        NaN       1868044   \n",
       "1         2     33120.0                1.0        1.0       3355525   \n",
       "2         2     28985.0                2.0        1.0       3355525   \n",
       "3         2      9327.0                3.0        0.0       3355525   \n",
       "4         2     45918.0                4.0        1.0       3355525   \n",
       "\n",
       "   Unnamed: 0_x  user_id eval_set  order_number  orders_day_of_week  \\\n",
       "0       1868044   112108    train             4                   4   \n",
       "1       3355525   202279    prior             3                   5   \n",
       "2       3355525   202279    prior             3                   5   \n",
       "3       3355525   202279    prior             3                   5   \n",
       "4       3355525   202279    prior             3                   5   \n",
       "\n",
       "   order_hour_of_day  days_since_prior_order  order_dow      _merge  \\\n",
       "0                 10                     9.0          4  right_only   \n",
       "1                  9                     8.0          5        both   \n",
       "2                  9                     8.0          5        both   \n",
       "3                  9                     8.0          5        both   \n",
       "4                  9                     8.0          5        both   \n",
       "\n",
       "   Unnamed: 0_y           product_name  aisle_id  department_id  prices  \n",
       "0           NaN                    NaN       NaN            NaN     NaN  \n",
       "1       33122.0     Organic Egg Whites      86.0           16.0    11.3  \n",
       "2       28987.0  Michigan Organic Kale      83.0            4.0    13.4  \n",
       "3        9327.0          Garlic Powder     104.0           13.0     3.6  \n",
       "4       45922.0         Coconut Butter      19.0           13.0     8.4  "
      ]
     },
     "execution_count": 25,
     "metadata": {},
     "output_type": "execute_result"
    }
   ],
   "source": [
    "df_combined.head()"
   ]
  },
  {
   "cell_type": "code",
   "execution_count": 31,
   "id": "5cf86c4c-490d-4f37-b0d9-7167c7865e11",
   "metadata": {},
   "outputs": [],
   "source": [
    "# Drop columns don't need\n",
    "df_combined.drop(columns=['_merge'], inplace=True)"
   ]
  },
  {
   "cell_type": "code",
   "execution_count": 32,
   "id": "aeac9046-2246-4a9c-83a1-04a83631a5bb",
   "metadata": {},
   "outputs": [],
   "source": [
    "df_combined.drop(columns=['Unnamed: 0.1'], inplace=True)"
   ]
  },
  {
   "cell_type": "code",
   "execution_count": 33,
   "id": "a50c5d0e-f140-403b-8a82-f9289daf18e9",
   "metadata": {},
   "outputs": [],
   "source": [
    "df_combined.drop(columns=['Unnamed: 0_x'], inplace=True)"
   ]
  },
  {
   "cell_type": "code",
   "execution_count": 34,
   "id": "a7b00724-2eab-49f1-a4f0-35373c7cef57",
   "metadata": {},
   "outputs": [],
   "source": [
    "df_combined.drop(columns=['eval_set'], inplace=True)"
   ]
  },
  {
   "cell_type": "code",
   "execution_count": 35,
   "id": "7d9d3950-119c-4b0d-925a-95cc3e5f5b5a",
   "metadata": {},
   "outputs": [],
   "source": [
    "df_combined.drop(columns=['Unnamed: 0_y'], inplace=True)"
   ]
  },
  {
   "cell_type": "code",
   "execution_count": 36,
   "id": "8ff1814b-b165-4e80-b1b7-b7c1909fd967",
   "metadata": {},
   "outputs": [
    {
     "data": {
      "text/html": [
       "<div>\n",
       "<style scoped>\n",
       "    .dataframe tbody tr th:only-of-type {\n",
       "        vertical-align: middle;\n",
       "    }\n",
       "\n",
       "    .dataframe tbody tr th {\n",
       "        vertical-align: top;\n",
       "    }\n",
       "\n",
       "    .dataframe thead th {\n",
       "        text-align: right;\n",
       "    }\n",
       "</style>\n",
       "<table border=\"1\" class=\"dataframe\">\n",
       "  <thead>\n",
       "    <tr style=\"text-align: right;\">\n",
       "      <th></th>\n",
       "      <th>order_id</th>\n",
       "      <th>product_id</th>\n",
       "      <th>add_to_cart_order</th>\n",
       "      <th>reordered</th>\n",
       "      <th>user_id</th>\n",
       "      <th>order_number</th>\n",
       "      <th>orders_day_of_week</th>\n",
       "      <th>order_hour_of_day</th>\n",
       "      <th>days_since_prior_order</th>\n",
       "      <th>order_dow</th>\n",
       "      <th>product_name</th>\n",
       "      <th>aisle_id</th>\n",
       "      <th>department_id</th>\n",
       "      <th>prices</th>\n",
       "    </tr>\n",
       "  </thead>\n",
       "  <tbody>\n",
       "    <tr>\n",
       "      <th>0</th>\n",
       "      <td>1</td>\n",
       "      <td>NaN</td>\n",
       "      <td>NaN</td>\n",
       "      <td>NaN</td>\n",
       "      <td>112108</td>\n",
       "      <td>4</td>\n",
       "      <td>4</td>\n",
       "      <td>10</td>\n",
       "      <td>9.0</td>\n",
       "      <td>4</td>\n",
       "      <td>NaN</td>\n",
       "      <td>NaN</td>\n",
       "      <td>NaN</td>\n",
       "      <td>NaN</td>\n",
       "    </tr>\n",
       "    <tr>\n",
       "      <th>1</th>\n",
       "      <td>2</td>\n",
       "      <td>33120.0</td>\n",
       "      <td>1.0</td>\n",
       "      <td>1.0</td>\n",
       "      <td>202279</td>\n",
       "      <td>3</td>\n",
       "      <td>5</td>\n",
       "      <td>9</td>\n",
       "      <td>8.0</td>\n",
       "      <td>5</td>\n",
       "      <td>Organic Egg Whites</td>\n",
       "      <td>86.0</td>\n",
       "      <td>16.0</td>\n",
       "      <td>11.3</td>\n",
       "    </tr>\n",
       "    <tr>\n",
       "      <th>2</th>\n",
       "      <td>2</td>\n",
       "      <td>28985.0</td>\n",
       "      <td>2.0</td>\n",
       "      <td>1.0</td>\n",
       "      <td>202279</td>\n",
       "      <td>3</td>\n",
       "      <td>5</td>\n",
       "      <td>9</td>\n",
       "      <td>8.0</td>\n",
       "      <td>5</td>\n",
       "      <td>Michigan Organic Kale</td>\n",
       "      <td>83.0</td>\n",
       "      <td>4.0</td>\n",
       "      <td>13.4</td>\n",
       "    </tr>\n",
       "    <tr>\n",
       "      <th>3</th>\n",
       "      <td>2</td>\n",
       "      <td>9327.0</td>\n",
       "      <td>3.0</td>\n",
       "      <td>0.0</td>\n",
       "      <td>202279</td>\n",
       "      <td>3</td>\n",
       "      <td>5</td>\n",
       "      <td>9</td>\n",
       "      <td>8.0</td>\n",
       "      <td>5</td>\n",
       "      <td>Garlic Powder</td>\n",
       "      <td>104.0</td>\n",
       "      <td>13.0</td>\n",
       "      <td>3.6</td>\n",
       "    </tr>\n",
       "    <tr>\n",
       "      <th>4</th>\n",
       "      <td>2</td>\n",
       "      <td>45918.0</td>\n",
       "      <td>4.0</td>\n",
       "      <td>1.0</td>\n",
       "      <td>202279</td>\n",
       "      <td>3</td>\n",
       "      <td>5</td>\n",
       "      <td>9</td>\n",
       "      <td>8.0</td>\n",
       "      <td>5</td>\n",
       "      <td>Coconut Butter</td>\n",
       "      <td>19.0</td>\n",
       "      <td>13.0</td>\n",
       "      <td>8.4</td>\n",
       "    </tr>\n",
       "  </tbody>\n",
       "</table>\n",
       "</div>"
      ],
      "text/plain": [
       "   order_id  product_id  add_to_cart_order  reordered  user_id  order_number  \\\n",
       "0         1         NaN                NaN        NaN   112108             4   \n",
       "1         2     33120.0                1.0        1.0   202279             3   \n",
       "2         2     28985.0                2.0        1.0   202279             3   \n",
       "3         2      9327.0                3.0        0.0   202279             3   \n",
       "4         2     45918.0                4.0        1.0   202279             3   \n",
       "\n",
       "   orders_day_of_week  order_hour_of_day  days_since_prior_order  order_dow  \\\n",
       "0                   4                 10                     9.0          4   \n",
       "1                   5                  9                     8.0          5   \n",
       "2                   5                  9                     8.0          5   \n",
       "3                   5                  9                     8.0          5   \n",
       "4                   5                  9                     8.0          5   \n",
       "\n",
       "            product_name  aisle_id  department_id  prices  \n",
       "0                    NaN       NaN            NaN     NaN  \n",
       "1     Organic Egg Whites      86.0           16.0    11.3  \n",
       "2  Michigan Organic Kale      83.0            4.0    13.4  \n",
       "3          Garlic Powder     104.0           13.0     3.6  \n",
       "4         Coconut Butter      19.0           13.0     8.4  "
      ]
     },
     "execution_count": 36,
     "metadata": {},
     "output_type": "execute_result"
    }
   ],
   "source": [
    "# Check\n",
    "df_combined.head()"
   ]
  },
  {
   "cell_type": "code",
   "execution_count": 38,
   "id": "8392bc7c-827f-4c2e-a344-c3bd924712d5",
   "metadata": {},
   "outputs": [],
   "source": [
    "df_combined.to_pickle(os.path.join(path, '2 Data', 'Prepared Data', 'ords_prods_mergejul16.pkl'))"
   ]
  },
  {
   "cell_type": "code",
   "execution_count": null,
   "id": "40cd64cd-50e9-4563-9ca4-b029ad8d03ba",
   "metadata": {},
   "outputs": [],
   "source": [
    "# end notebook"
   ]
  }
 ],
 "metadata": {
  "kernelspec": {
   "display_name": "Python 3 (ipykernel)",
   "language": "python",
   "name": "python3"
  },
  "language_info": {
   "codemirror_mode": {
    "name": "ipython",
    "version": 3
   },
   "file_extension": ".py",
   "mimetype": "text/x-python",
   "name": "python",
   "nbconvert_exporter": "python",
   "pygments_lexer": "ipython3",
   "version": "3.12.4"
  }
 },
 "nbformat": 4,
 "nbformat_minor": 5
}

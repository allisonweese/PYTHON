{
 "cells": [
  {
   "cell_type": "markdown",
   "id": "5f723403-9be9-434e-8462-21dde9a67e40",
   "metadata": {},
   "source": [
    "# This Script Contains the Following Points\n",
    "## 6. Import Databases and Dataframe\n",
    "## 7. Create a Profiling Variable\n",
    "## 8. Create Viz to Show Distribution of Profiles\n",
    "## 9. Aggregate Variables on a Customer Profile\n",
    "## 10. Compare Profiles and Regions"
   ]
  },
  {
   "cell_type": "markdown",
   "id": "d93e18da-9429-4fc1-ae60-40edfd30b6da",
   "metadata": {},
   "source": [
    "### 6. Import Databases and Dataframe"
   ]
  },
  {
   "cell_type": "code",
   "execution_count": 1,
   "id": "9f6f2eed-579f-431b-bfbf-1eaf5c5726a2",
   "metadata": {},
   "outputs": [],
   "source": [
    "# Import Libs\n",
    "import pandas as pd\n",
    "import numpy as np\n",
    "import os\n",
    "import matplotlib.pyplot as plt\n",
    "import seaborn as sns\n",
    "import scipy"
   ]
  },
  {
   "cell_type": "code",
   "execution_count": 2,
   "id": "3d5c4bf2-3dc6-4be4-b4e2-c12f32ac7cb7",
   "metadata": {},
   "outputs": [],
   "source": [
    "# Import Dataframe\n",
    "df = pd.read_pickle(r'/Users/allisonweese/Documents/Achievement 4 Project/2 Data/Prepared Data/ordsprodscomb7.16.pkl')"
   ]
  },
  {
   "cell_type": "code",
   "execution_count": 3,
   "id": "184ed0d3-a9e3-4de2-80f2-7c08acb619fb",
   "metadata": {},
   "outputs": [
    {
     "data": {
      "text/html": [
       "<div>\n",
       "<style scoped>\n",
       "    .dataframe tbody tr th:only-of-type {\n",
       "        vertical-align: middle;\n",
       "    }\n",
       "\n",
       "    .dataframe tbody tr th {\n",
       "        vertical-align: top;\n",
       "    }\n",
       "\n",
       "    .dataframe thead th {\n",
       "        text-align: right;\n",
       "    }\n",
       "</style>\n",
       "<table border=\"1\" class=\"dataframe\">\n",
       "  <thead>\n",
       "    <tr style=\"text-align: right;\">\n",
       "      <th></th>\n",
       "      <th>order_id</th>\n",
       "      <th>user_id</th>\n",
       "      <th>order_number</th>\n",
       "      <th>order_dow</th>\n",
       "      <th>order_hour_of_day</th>\n",
       "      <th>days_since_prior_order</th>\n",
       "      <th>product_id</th>\n",
       "      <th>add_to_cart_order</th>\n",
       "      <th>reordered</th>\n",
       "      <th>product_name</th>\n",
       "      <th>...</th>\n",
       "      <th>Gender</th>\n",
       "      <th>State</th>\n",
       "      <th>Age</th>\n",
       "      <th>date_joined</th>\n",
       "      <th>Dependants</th>\n",
       "      <th>fam_status</th>\n",
       "      <th>income</th>\n",
       "      <th>Region</th>\n",
       "      <th>order_count</th>\n",
       "      <th>exclusion_flag</th>\n",
       "    </tr>\n",
       "  </thead>\n",
       "  <tbody>\n",
       "    <tr>\n",
       "      <th>0</th>\n",
       "      <td>2539329</td>\n",
       "      <td>1</td>\n",
       "      <td>1</td>\n",
       "      <td>2</td>\n",
       "      <td>8</td>\n",
       "      <td>0</td>\n",
       "      <td>196</td>\n",
       "      <td>1</td>\n",
       "      <td>0</td>\n",
       "      <td>Soda</td>\n",
       "      <td>...</td>\n",
       "      <td>Female</td>\n",
       "      <td>Alabama</td>\n",
       "      <td>31</td>\n",
       "      <td>2/17/2019</td>\n",
       "      <td>3</td>\n",
       "      <td>married</td>\n",
       "      <td>40423</td>\n",
       "      <td>South</td>\n",
       "      <td>59</td>\n",
       "      <td>False</td>\n",
       "    </tr>\n",
       "    <tr>\n",
       "      <th>1</th>\n",
       "      <td>2539329</td>\n",
       "      <td>1</td>\n",
       "      <td>1</td>\n",
       "      <td>2</td>\n",
       "      <td>8</td>\n",
       "      <td>0</td>\n",
       "      <td>14084</td>\n",
       "      <td>2</td>\n",
       "      <td>0</td>\n",
       "      <td>Organic Unsweetened Vanilla Almond Milk</td>\n",
       "      <td>...</td>\n",
       "      <td>Female</td>\n",
       "      <td>Alabama</td>\n",
       "      <td>31</td>\n",
       "      <td>2/17/2019</td>\n",
       "      <td>3</td>\n",
       "      <td>married</td>\n",
       "      <td>40423</td>\n",
       "      <td>South</td>\n",
       "      <td>59</td>\n",
       "      <td>False</td>\n",
       "    </tr>\n",
       "    <tr>\n",
       "      <th>2</th>\n",
       "      <td>2539329</td>\n",
       "      <td>1</td>\n",
       "      <td>1</td>\n",
       "      <td>2</td>\n",
       "      <td>8</td>\n",
       "      <td>0</td>\n",
       "      <td>12427</td>\n",
       "      <td>3</td>\n",
       "      <td>0</td>\n",
       "      <td>Original Beef Jerky</td>\n",
       "      <td>...</td>\n",
       "      <td>Female</td>\n",
       "      <td>Alabama</td>\n",
       "      <td>31</td>\n",
       "      <td>2/17/2019</td>\n",
       "      <td>3</td>\n",
       "      <td>married</td>\n",
       "      <td>40423</td>\n",
       "      <td>South</td>\n",
       "      <td>59</td>\n",
       "      <td>False</td>\n",
       "    </tr>\n",
       "    <tr>\n",
       "      <th>3</th>\n",
       "      <td>2539329</td>\n",
       "      <td>1</td>\n",
       "      <td>1</td>\n",
       "      <td>2</td>\n",
       "      <td>8</td>\n",
       "      <td>0</td>\n",
       "      <td>26088</td>\n",
       "      <td>4</td>\n",
       "      <td>0</td>\n",
       "      <td>Aged White Cheddar Popcorn</td>\n",
       "      <td>...</td>\n",
       "      <td>Female</td>\n",
       "      <td>Alabama</td>\n",
       "      <td>31</td>\n",
       "      <td>2/17/2019</td>\n",
       "      <td>3</td>\n",
       "      <td>married</td>\n",
       "      <td>40423</td>\n",
       "      <td>South</td>\n",
       "      <td>59</td>\n",
       "      <td>False</td>\n",
       "    </tr>\n",
       "    <tr>\n",
       "      <th>4</th>\n",
       "      <td>2539329</td>\n",
       "      <td>1</td>\n",
       "      <td>1</td>\n",
       "      <td>2</td>\n",
       "      <td>8</td>\n",
       "      <td>0</td>\n",
       "      <td>26405</td>\n",
       "      <td>5</td>\n",
       "      <td>0</td>\n",
       "      <td>XL Pick-A-Size Paper Towel Rolls</td>\n",
       "      <td>...</td>\n",
       "      <td>Female</td>\n",
       "      <td>Alabama</td>\n",
       "      <td>31</td>\n",
       "      <td>2/17/2019</td>\n",
       "      <td>3</td>\n",
       "      <td>married</td>\n",
       "      <td>40423</td>\n",
       "      <td>South</td>\n",
       "      <td>59</td>\n",
       "      <td>False</td>\n",
       "    </tr>\n",
       "  </tbody>\n",
       "</table>\n",
       "<p>5 rows × 30 columns</p>\n",
       "</div>"
      ],
      "text/plain": [
       "   order_id  user_id  order_number  order_dow  order_hour_of_day  \\\n",
       "0   2539329        1             1          2                  8   \n",
       "1   2539329        1             1          2                  8   \n",
       "2   2539329        1             1          2                  8   \n",
       "3   2539329        1             1          2                  8   \n",
       "4   2539329        1             1          2                  8   \n",
       "\n",
       "   days_since_prior_order  product_id  add_to_cart_order  reordered  \\\n",
       "0                       0         196                  1          0   \n",
       "1                       0       14084                  2          0   \n",
       "2                       0       12427                  3          0   \n",
       "3                       0       26088                  4          0   \n",
       "4                       0       26405                  5          0   \n",
       "\n",
       "                              product_name  ...  Gender    State  Age  \\\n",
       "0                                     Soda  ...  Female  Alabama   31   \n",
       "1  Organic Unsweetened Vanilla Almond Milk  ...  Female  Alabama   31   \n",
       "2                      Original Beef Jerky  ...  Female  Alabama   31   \n",
       "3               Aged White Cheddar Popcorn  ...  Female  Alabama   31   \n",
       "4         XL Pick-A-Size Paper Towel Rolls  ...  Female  Alabama   31   \n",
       "\n",
       "  date_joined Dependants fam_status  income Region order_count exclusion_flag  \n",
       "0   2/17/2019          3    married   40423  South          59          False  \n",
       "1   2/17/2019          3    married   40423  South          59          False  \n",
       "2   2/17/2019          3    married   40423  South          59          False  \n",
       "3   2/17/2019          3    married   40423  South          59          False  \n",
       "4   2/17/2019          3    married   40423  South          59          False  \n",
       "\n",
       "[5 rows x 30 columns]"
      ]
     },
     "execution_count": 3,
     "metadata": {},
     "output_type": "execute_result"
    }
   ],
   "source": [
    "# Check\n",
    "df.head()"
   ]
  },
  {
   "cell_type": "markdown",
   "id": "ddb14c26-cc8a-4e60-a1d1-fe7e67599e6c",
   "metadata": {},
   "source": [
    "### 7. Profiling Variable"
   ]
  },
  {
   "cell_type": "code",
   "execution_count": 4,
   "id": "7467f61d-4090-43af-b24a-baf20292928b",
   "metadata": {},
   "outputs": [],
   "source": [
    "# Binning age and income\n",
    "df['age_group'] = pd.cut(df['Age'], bins=[0, 18, 30, 45, 65, 100], labels=['Under 18', '18-30', '30-45', '45-65', '65+'])\n",
    "df['income_group'] = pd.cut(df['income'], bins=[0, 30000, 60000, 100000, 150000, 200000], labels=['Low', 'Lower-middle', 'Middle', 'Upper-middle', 'High'])"
   ]
  },
  {
   "cell_type": "code",
   "execution_count": 8,
   "id": "d2bb7646-af42-423c-b0e8-9e33e4c92430",
   "metadata": {},
   "outputs": [],
   "source": [
    "# Define profile function\n",
    "def assign_profile(row):\n",
    "    if row['Dependants'] == 0:\n",
    "        if row['Age'] < 30:\n",
    "            return 'Single adult'\n",
    "        elif row['Age'] >= 30 and row['Age'] <= 45:\n",
    "            return 'Middle-aged single'\n",
    "        else:\n",
    "            return 'Older adult'\n",
    "    else:\n",
    "        if row['Age'] < 30:\n",
    "            return 'Young parent'\n",
    "        elif row['Age'] >= 30 and row['Age'] <= 45:\n",
    "            return 'Middle-aged parent'\n",
    "        else:\n",
    "            return 'Older parent'"
   ]
  },
  {
   "cell_type": "code",
   "execution_count": 9,
   "id": "1a2cd074-3900-4b84-9cc3-3ee4f817fa85",
   "metadata": {},
   "outputs": [],
   "source": [
    "# Apply profile function to create a new column\n",
    "df['profile'] = df.apply(assign_profile, axis=1)"
   ]
  },
  {
   "cell_type": "code",
   "execution_count": 12,
   "id": "2f6be3ff-2ff7-40d6-bdae-a9d44817f43a",
   "metadata": {},
   "outputs": [
    {
     "data": {
      "text/html": [
       "<div>\n",
       "<style scoped>\n",
       "    .dataframe tbody tr th:only-of-type {\n",
       "        vertical-align: middle;\n",
       "    }\n",
       "\n",
       "    .dataframe tbody tr th {\n",
       "        vertical-align: top;\n",
       "    }\n",
       "\n",
       "    .dataframe thead th {\n",
       "        text-align: right;\n",
       "    }\n",
       "</style>\n",
       "<table border=\"1\" class=\"dataframe\">\n",
       "  <thead>\n",
       "    <tr style=\"text-align: right;\">\n",
       "      <th></th>\n",
       "      <th>order_id</th>\n",
       "      <th>user_id</th>\n",
       "      <th>order_number</th>\n",
       "      <th>order_dow</th>\n",
       "      <th>order_hour_of_day</th>\n",
       "      <th>days_since_prior_order</th>\n",
       "      <th>product_id</th>\n",
       "      <th>add_to_cart_order</th>\n",
       "      <th>reordered</th>\n",
       "      <th>product_name</th>\n",
       "      <th>...</th>\n",
       "      <th>date_joined</th>\n",
       "      <th>Dependants</th>\n",
       "      <th>fam_status</th>\n",
       "      <th>income</th>\n",
       "      <th>Region</th>\n",
       "      <th>order_count</th>\n",
       "      <th>exclusion_flag</th>\n",
       "      <th>age_group</th>\n",
       "      <th>income_group</th>\n",
       "      <th>profile</th>\n",
       "    </tr>\n",
       "  </thead>\n",
       "  <tbody>\n",
       "    <tr>\n",
       "      <th>0</th>\n",
       "      <td>2539329</td>\n",
       "      <td>1</td>\n",
       "      <td>1</td>\n",
       "      <td>2</td>\n",
       "      <td>8</td>\n",
       "      <td>0</td>\n",
       "      <td>196</td>\n",
       "      <td>1</td>\n",
       "      <td>0</td>\n",
       "      <td>Soda</td>\n",
       "      <td>...</td>\n",
       "      <td>2/17/2019</td>\n",
       "      <td>3</td>\n",
       "      <td>married</td>\n",
       "      <td>40423</td>\n",
       "      <td>South</td>\n",
       "      <td>59</td>\n",
       "      <td>False</td>\n",
       "      <td>30-45</td>\n",
       "      <td>Lower-middle</td>\n",
       "      <td>Middle-aged parent</td>\n",
       "    </tr>\n",
       "    <tr>\n",
       "      <th>1</th>\n",
       "      <td>2539329</td>\n",
       "      <td>1</td>\n",
       "      <td>1</td>\n",
       "      <td>2</td>\n",
       "      <td>8</td>\n",
       "      <td>0</td>\n",
       "      <td>14084</td>\n",
       "      <td>2</td>\n",
       "      <td>0</td>\n",
       "      <td>Organic Unsweetened Vanilla Almond Milk</td>\n",
       "      <td>...</td>\n",
       "      <td>2/17/2019</td>\n",
       "      <td>3</td>\n",
       "      <td>married</td>\n",
       "      <td>40423</td>\n",
       "      <td>South</td>\n",
       "      <td>59</td>\n",
       "      <td>False</td>\n",
       "      <td>30-45</td>\n",
       "      <td>Lower-middle</td>\n",
       "      <td>Middle-aged parent</td>\n",
       "    </tr>\n",
       "    <tr>\n",
       "      <th>2</th>\n",
       "      <td>2539329</td>\n",
       "      <td>1</td>\n",
       "      <td>1</td>\n",
       "      <td>2</td>\n",
       "      <td>8</td>\n",
       "      <td>0</td>\n",
       "      <td>12427</td>\n",
       "      <td>3</td>\n",
       "      <td>0</td>\n",
       "      <td>Original Beef Jerky</td>\n",
       "      <td>...</td>\n",
       "      <td>2/17/2019</td>\n",
       "      <td>3</td>\n",
       "      <td>married</td>\n",
       "      <td>40423</td>\n",
       "      <td>South</td>\n",
       "      <td>59</td>\n",
       "      <td>False</td>\n",
       "      <td>30-45</td>\n",
       "      <td>Lower-middle</td>\n",
       "      <td>Middle-aged parent</td>\n",
       "    </tr>\n",
       "    <tr>\n",
       "      <th>3</th>\n",
       "      <td>2539329</td>\n",
       "      <td>1</td>\n",
       "      <td>1</td>\n",
       "      <td>2</td>\n",
       "      <td>8</td>\n",
       "      <td>0</td>\n",
       "      <td>26088</td>\n",
       "      <td>4</td>\n",
       "      <td>0</td>\n",
       "      <td>Aged White Cheddar Popcorn</td>\n",
       "      <td>...</td>\n",
       "      <td>2/17/2019</td>\n",
       "      <td>3</td>\n",
       "      <td>married</td>\n",
       "      <td>40423</td>\n",
       "      <td>South</td>\n",
       "      <td>59</td>\n",
       "      <td>False</td>\n",
       "      <td>30-45</td>\n",
       "      <td>Lower-middle</td>\n",
       "      <td>Middle-aged parent</td>\n",
       "    </tr>\n",
       "    <tr>\n",
       "      <th>4</th>\n",
       "      <td>2539329</td>\n",
       "      <td>1</td>\n",
       "      <td>1</td>\n",
       "      <td>2</td>\n",
       "      <td>8</td>\n",
       "      <td>0</td>\n",
       "      <td>26405</td>\n",
       "      <td>5</td>\n",
       "      <td>0</td>\n",
       "      <td>XL Pick-A-Size Paper Towel Rolls</td>\n",
       "      <td>...</td>\n",
       "      <td>2/17/2019</td>\n",
       "      <td>3</td>\n",
       "      <td>married</td>\n",
       "      <td>40423</td>\n",
       "      <td>South</td>\n",
       "      <td>59</td>\n",
       "      <td>False</td>\n",
       "      <td>30-45</td>\n",
       "      <td>Lower-middle</td>\n",
       "      <td>Middle-aged parent</td>\n",
       "    </tr>\n",
       "  </tbody>\n",
       "</table>\n",
       "<p>5 rows × 33 columns</p>\n",
       "</div>"
      ],
      "text/plain": [
       "   order_id  user_id  order_number  order_dow  order_hour_of_day  \\\n",
       "0   2539329        1             1          2                  8   \n",
       "1   2539329        1             1          2                  8   \n",
       "2   2539329        1             1          2                  8   \n",
       "3   2539329        1             1          2                  8   \n",
       "4   2539329        1             1          2                  8   \n",
       "\n",
       "   days_since_prior_order  product_id  add_to_cart_order  reordered  \\\n",
       "0                       0         196                  1          0   \n",
       "1                       0       14084                  2          0   \n",
       "2                       0       12427                  3          0   \n",
       "3                       0       26088                  4          0   \n",
       "4                       0       26405                  5          0   \n",
       "\n",
       "                              product_name  ...  date_joined  Dependants  \\\n",
       "0                                     Soda  ...    2/17/2019           3   \n",
       "1  Organic Unsweetened Vanilla Almond Milk  ...    2/17/2019           3   \n",
       "2                      Original Beef Jerky  ...    2/17/2019           3   \n",
       "3               Aged White Cheddar Popcorn  ...    2/17/2019           3   \n",
       "4         XL Pick-A-Size Paper Towel Rolls  ...    2/17/2019           3   \n",
       "\n",
       "   fam_status income Region order_count  exclusion_flag age_group  \\\n",
       "0     married  40423  South          59           False     30-45   \n",
       "1     married  40423  South          59           False     30-45   \n",
       "2     married  40423  South          59           False     30-45   \n",
       "3     married  40423  South          59           False     30-45   \n",
       "4     married  40423  South          59           False     30-45   \n",
       "\n",
       "   income_group             profile  \n",
       "0  Lower-middle  Middle-aged parent  \n",
       "1  Lower-middle  Middle-aged parent  \n",
       "2  Lower-middle  Middle-aged parent  \n",
       "3  Lower-middle  Middle-aged parent  \n",
       "4  Lower-middle  Middle-aged parent  \n",
       "\n",
       "[5 rows x 33 columns]"
      ]
     },
     "execution_count": 12,
     "metadata": {},
     "output_type": "execute_result"
    }
   ],
   "source": [
    "# Check Profile Success\n",
    "df.head()"
   ]
  },
  {
   "cell_type": "code",
   "execution_count": 17,
   "id": "1a6712ef-f417-45c1-91ba-9e3f75ba5f0c",
   "metadata": {},
   "outputs": [],
   "source": [
    "# Noticed low activity customers were still included in df"
   ]
  },
  {
   "cell_type": "code",
   "execution_count": 14,
   "id": "0f23159e-1cf5-4495-89c3-8f47c4edeba4",
   "metadata": {},
   "outputs": [],
   "source": [
    "# Remove rows where exclusion_flag is True\n",
    "df = df[df['exclusion_flag'] != True]"
   ]
  },
  {
   "cell_type": "code",
   "execution_count": 16,
   "id": "a3b4b143-a145-4d00-9a91-a7722cb6d66f",
   "metadata": {},
   "outputs": [
    {
     "data": {
      "text/plain": [
       "(32401975, 33)"
      ]
     },
     "execution_count": 16,
     "metadata": {},
     "output_type": "execute_result"
    }
   ],
   "source": [
    "# Check success\n",
    "df.shape"
   ]
  },
  {
   "cell_type": "markdown",
   "id": "76084ea4-cd63-47cd-b65e-3dc291312c65",
   "metadata": {},
   "source": [
    "### 8. Create Visualization of Profiles"
   ]
  },
  {
   "cell_type": "code",
   "execution_count": 22,
   "id": "866e5acc-4a38-4d9a-b7ff-b5f22ba98307",
   "metadata": {},
   "outputs": [
    {
     "data": {
      "text/plain": [
       "([0, 1, 2, 3, 4, 5],\n",
       " [Text(0, 0, 'Older parent'),\n",
       "  Text(1, 0, 'Middle-aged parent'),\n",
       "  Text(2, 0, 'Young parent'),\n",
       "  Text(3, 0, 'Older adult'),\n",
       "  Text(4, 0, 'Middle-aged single'),\n",
       "  Text(5, 0, 'Single adult')])"
      ]
     },
     "execution_count": 22,
     "metadata": {},
     "output_type": "execute_result"
    },
    {
     "data": {
      "image/png": "[encoded data removed]",
      "text/plain": [
       "<Figure size 1000x600 with 1 Axes>"
      ]
     },
     "metadata": {},
     "output_type": "display_data"
    }
   ],
   "source": [
    "# Create a bar plot for the distribution of profiles\n",
    "# Create a bar plot for the distribution of profiles\n",
    "plt.figure(figsize=(10, 6))\n",
    "bar = sns.countplot(x='profile', data=df, order=df['profile'].value_counts().index)\n",
    "plt.title('Distribution of Customer Profiles')\n",
    "plt.xlabel('Profile')\n",
    "plt.ylabel('Count')\n",
    "plt.xticks(rotation=45)"
   ]
  },
  {
   "cell_type": "code",
   "execution_count": 20,
   "id": "7e338a96-da32-4daa-adb9-12338a36b672",
   "metadata": {},
   "outputs": [],
   "source": [
    "# We can see that Older Parents are the most active users of Instacart\n",
    "# Single Adults are least active"
   ]
  },
  {
   "cell_type": "code",
   "execution_count": 23,
   "id": "80ab6e1b-ed15-4434-8275-73048b3feaae",
   "metadata": {},
   "outputs": [],
   "source": [
    "# Export bar chart\n",
    "bar.figure.savefig(os.path.join('/Users/allisonweese/Documents/Achievement 4 Project/4 Analysis/Visualizations/parentprofilebar.png'))"
   ]
  },
  {
   "cell_type": "markdown",
   "id": "0a8a171a-214d-420c-aaaf-e424d1d5e1d0",
   "metadata": {},
   "source": [
    "### 9. Aggregate"
   ]
  },
  {
   "cell_type": "code",
   "execution_count": 26,
   "id": "bcebe86f-39f5-474d-a4d8-e1f7541ccd2e",
   "metadata": {},
   "outputs": [
    {
     "name": "stdout",
     "output_type": "stream",
     "text": [
      "Index(['order_id', 'user_id', 'order_number', 'order_dow', 'order_hour_of_day',\n",
      "       'days_since_prior_order', 'product_id', 'add_to_cart_order',\n",
      "       'reordered', 'product_name', 'aisle_id', 'department_id', 'prices',\n",
      "       'price_range_loc', 'busiest_day', 'busiest_period_of_day', 'max_order',\n",
      "       'loyalty_flag', 'spending_flag', 'order_frequency_flag', 'Gender',\n",
      "       'State', 'Age', 'date_joined', 'Dependants', 'fam_status', 'income',\n",
      "       'Region', 'order_count', 'exclusion_flag', 'age_group', 'income_group',\n",
      "       'profile'],\n",
      "      dtype='object')\n"
     ]
    }
   ],
   "source": [
    "# See columns\n",
    "print(df.columns)"
   ]
  },
  {
   "cell_type": "code",
   "execution_count": 27,
   "id": "b6fefa93-eb42-44bd-9dc3-048e3a9aaa0b",
   "metadata": {},
   "outputs": [],
   "source": [
    "# Group by 'profile' and aggregate max, mean, and min for 'order_count' and 'prices'\n",
    "aggregated_df = df.groupby('profile').agg({\n",
    "    'order_count': ['max', 'mean', 'min'],\n",
    "    'prices': ['max', 'mean', 'min']\n",
    "}).reset_index()"
   ]
  },
  {
   "cell_type": "code",
   "execution_count": 29,
   "id": "858d994f-6c92-4b4b-be9a-9bea6f0ea20a",
   "metadata": {},
   "outputs": [
    {
     "name": "stdout",
     "output_type": "stream",
     "text": [
      "              profile order_count                 prices               \n",
      "                              max        mean min    max      mean  min\n",
      "0  Middle-aged parent        2901  428.893302   5   25.0  7.794481  1.0\n",
      "1  Middle-aged single        1940  414.417686   5   25.0  7.784902  1.0\n",
      "2         Older adult        3637  429.122945   5   25.0  7.796896  1.0\n",
      "3        Older parent        3704  418.339530   5   25.0  7.790374  1.0\n",
      "4        Single adult        2429  417.401127   5   25.0  7.772080  1.0\n",
      "5        Young parent        2577  421.994466   5   25.0  7.785841  1.0\n"
     ]
    }
   ],
   "source": [
    "# Print totals\n",
    "print(aggregated_df)"
   ]
  },
  {
   "cell_type": "markdown",
   "id": "4a2e16e0-c4ae-49d6-91d5-95d126e80aa5",
   "metadata": {},
   "source": [
    "### 10. Compare Profiles with Regions"
   ]
  },
  {
   "cell_type": "code",
   "execution_count": 30,
   "id": "1a85c8b8-92d3-4431-8b71-6bfb13e02961",
   "metadata": {},
   "outputs": [],
   "source": [
    "# Pivot table for mean prices by profile and region\n",
    "pivot_table = df.pivot_table(index='profile', columns='Region', values='prices', aggfunc='mean')"
   ]
  },
  {
   "cell_type": "code",
   "execution_count": 31,
   "id": "4efb36d6-9595-4aac-8c34-25f731adbd08",
   "metadata": {},
   "outputs": [
    {
     "data": {
      "text/plain": [
       "Text(120.7222222222222, 0.5, 'Profile')"
      ]
     },
     "execution_count": 31,
     "metadata": {},
     "output_type": "execute_result"
    },
    {
     "data": {
      "image/png": "[encoded data removed]",
      "text/plain": [
       "<Figure size 1200x800 with 2 Axes>"
      ]
     },
     "metadata": {},
     "output_type": "display_data"
    }
   ],
   "source": [
    "# Create a heatmap to visualize the mean expenditure by profile and region\n",
    "plt.figure(figsize=(12, 8))\n",
    "heatmap = sns.heatmap(pivot_table, annot=True, cmap='coolwarm', fmt='.2f')\n",
    "plt.title('Mean Expenditure by Profile and Region')\n",
    "plt.xlabel('Region')\n",
    "plt.ylabel('Profile')"
   ]
  },
  {
   "cell_type": "code",
   "execution_count": 32,
   "id": "4e2a67ad-2862-442d-8cf0-35da72413551",
   "metadata": {},
   "outputs": [],
   "source": [
    "# Export heat map\n",
    "heatmap.figure.savefig(os.path.join('/Users/allisonweese/Documents/Achievement 4 Project/4 Analysis/Visualizations/profileregionheatmap.png'))"
   ]
  },
  {
   "cell_type": "code",
   "execution_count": 33,
   "id": "fca458c3-435f-4d7b-8298-e6309a9c46d8",
   "metadata": {},
   "outputs": [],
   "source": [
    "# Export Dataframe\n",
    "df.to_pickle(os.path.join('/Users/allisonweese/Documents/Achievement 4 Project/2 Data/Prepared Data/opc4.10.pkl'))"
   ]
  },
  {
   "cell_type": "code",
   "execution_count": null,
   "id": "6cc2f2e5-255d-41a9-a891-a766fb91f1c1",
   "metadata": {},
   "outputs": [],
   "source": []
  }
 ],
 "metadata": {
  "kernelspec": {
   "display_name": "Python 3 (ipykernel)",
   "language": "python",
   "name": "python3"
  },
  "language_info": {
   "codemirror_mode": {
    "name": "ipython",
    "version": 3
   },
   "file_extension": ".py",
   "mimetype": "text/x-python",
   "name": "python",
   "nbconvert_exporter": "python",
   "pygments_lexer": "ipython3",
   "version": "3.12.4"
  }
 },
 "nbformat": 4,
 "nbformat_minor": 5
}

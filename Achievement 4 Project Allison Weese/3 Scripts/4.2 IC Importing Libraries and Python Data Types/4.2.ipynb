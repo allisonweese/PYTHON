{
 "cells": [
  {
   "cell_type": "markdown",
   "id": "c739806b-5175-47ba-ba9f-070b7a587cf1",
   "metadata": {},
   "source": [
    "# This Script Contains the Following Data Points\n",
    "# Assignment 4.2 Data Analysis Immersion\n",
    "## 1. Import Libraries\n",
    "## 2. Working With Python Data Types\n",
    "    2.1 3 Different Ways of Reaching 100\n",
    "    2.2 Floating-Point Variables Divided by Each Other\n",
    "    2.3 Short Word Made of Separate Strings\n",
    "    2.4 Two Short Sentences Made of Separate Strings"
   ]
  },
  {
   "cell_type": "markdown",
   "id": "eb417211-0f81-45c6-86ae-a65b1e96080a",
   "metadata": {},
   "source": [
    "### 1. Import Libraries"
   ]
  },
  {
   "cell_type": "code",
   "execution_count": 1,
   "id": "70c42043-12ec-4ec7-af04-6ea5aafb198c",
   "metadata": {},
   "outputs": [],
   "source": [
    "# Import libraries\n",
    "import pandas as pd\n",
    "import numpy as np\n",
    "import os"
   ]
  },
  {
   "cell_type": "markdown",
   "id": "7a57600d-fb39-4db7-904a-35474710e905",
   "metadata": {},
   "source": [
    "### 2. Working With Python Data Types"
   ]
  },
  {
   "cell_type": "markdown",
   "id": "15b7dac4-1f6d-4ec4-808f-8074388336a3",
   "metadata": {},
   "source": [
    "#### 2.1 3 Different Ways of Reaching 100"
   ]
  },
  {
   "cell_type": "code",
   "execution_count": 2,
   "id": "ddb3cf69-35ac-4b1b-9afe-7d196e25884c",
   "metadata": {},
   "outputs": [
    {
     "data": {
      "text/plain": [
       "100"
      ]
     },
     "execution_count": 2,
     "metadata": {},
     "output_type": "execute_result"
    }
   ],
   "source": [
    "a = 25\n",
    "b = 75\n",
    "a + b"
   ]
  },
  {
   "cell_type": "code",
   "execution_count": 3,
   "id": "a1e879dd-1049-4bf7-86fb-30c10063d636",
   "metadata": {},
   "outputs": [
    {
     "data": {
      "text/plain": [
       "100"
      ]
     },
     "execution_count": 3,
     "metadata": {},
     "output_type": "execute_result"
    }
   ],
   "source": [
    "a = 1000\n",
    "b = 900\n",
    "a - b"
   ]
  },
  {
   "cell_type": "code",
   "execution_count": 4,
   "id": "1d7f2ce9-4b67-440c-b2b6-42a948a3e57c",
   "metadata": {},
   "outputs": [
    {
     "data": {
      "text/plain": [
       "100"
      ]
     },
     "execution_count": 4,
     "metadata": {},
     "output_type": "execute_result"
    }
   ],
   "source": [
    "a = 200\n",
    "b = 125\n",
    "c = 25\n",
    "a - b + c"
   ]
  },
  {
   "cell_type": "markdown",
   "id": "9fd1002d-dddb-4199-a1a4-fa4d6202a67d",
   "metadata": {},
   "source": [
    "#### 2.2 Floating-Point Variables Divided by Each Other"
   ]
  },
  {
   "cell_type": "code",
   "execution_count": 5,
   "id": "1fa21a4f-820b-4c7e-929a-d53e99088d5a",
   "metadata": {},
   "outputs": [
    {
     "data": {
      "text/plain": [
       "17.355033308875203"
      ]
     },
     "execution_count": 5,
     "metadata": {},
     "output_type": "execute_result"
    }
   ],
   "source": [
    "a = 896.4378\n",
    "b = 51.6529\n",
    "a/b"
   ]
  },
  {
   "cell_type": "markdown",
   "id": "d89b9100-242d-4d40-8001-2ee66b5dd99f",
   "metadata": {},
   "source": [
    "#### 2.3 Short Word Made of Separate Strings"
   ]
  },
  {
   "cell_type": "code",
   "execution_count": 6,
   "id": "eab398f5-f8f2-4957-9ce3-a2a4ad3a63cc",
   "metadata": {},
   "outputs": [
    {
     "data": {
      "text/plain": [
       "'mercedes'"
      ]
     },
     "execution_count": 6,
     "metadata": {},
     "output_type": "execute_result"
    }
   ],
   "source": [
    "a = 'mer'\n",
    "b = 'ce'\n",
    "c = 'des'\n",
    "a + b + c"
   ]
  },
  {
   "cell_type": "markdown",
   "id": "18e8462f-adcc-4b5f-9036-e5d1ec12924f",
   "metadata": {},
   "source": [
    "#### 2.4 Two Short Sentences Made of Separate Strings"
   ]
  },
  {
   "cell_type": "code",
   "execution_count": 7,
   "id": "355d0ba0-7980-48aa-9414-6f708fe2b36e",
   "metadata": {},
   "outputs": [
    {
     "data": {
      "text/plain": [
       "'Mercedes will beat Ferrari in the race.'"
      ]
     },
     "execution_count": 7,
     "metadata": {},
     "output_type": "execute_result"
    }
   ],
   "source": [
    "a = 'Mercedes '\n",
    "b = 'will '\n",
    "c = 'beat '\n",
    "d = 'Ferrari '\n",
    "e = 'in '\n",
    "f = 'the '\n",
    "g = 'race.'\n",
    "a + b + c + d + e + f + g"
   ]
  },
  {
   "cell_type": "code",
   "execution_count": 8,
   "id": "a1e3e90f-aef0-4828-b09c-a2834c308547",
   "metadata": {},
   "outputs": [
    {
     "data": {
      "text/plain": [
       "'Ferrari will beat Mercedes in the race.'"
      ]
     },
     "execution_count": 8,
     "metadata": {},
     "output_type": "execute_result"
    }
   ],
   "source": [
    "d + b + c + a + e + f + g"
   ]
  },
  {
   "cell_type": "code",
   "execution_count": 9,
   "id": "eb4e2a18-15dd-4f3c-a32e-81573b79ac7e",
   "metadata": {},
   "outputs": [],
   "source": [
    "# end notebook"
   ]
  },
  {
   "cell_type": "code",
   "execution_count": null,
   "id": "b1cc8455-c354-4cb2-8a8d-569f6b8992c7",
   "metadata": {},
   "outputs": [],
   "source": []
  }
 ],
 "metadata": {
  "kernelspec": {
   "display_name": "Python 3 (ipykernel)",
   "language": "python",
   "name": "python3"
  },
  "language_info": {
   "codemirror_mode": {
    "name": "ipython",
    "version": 3
   },
   "file_extension": ".py",
   "mimetype": "text/x-python",
   "name": "python",
   "nbconvert_exporter": "python",
   "pygments_lexer": "ipython3",
   "version": "3.12.4"
  }
 },
 "nbformat": 4,
 "nbformat_minor": 5
}

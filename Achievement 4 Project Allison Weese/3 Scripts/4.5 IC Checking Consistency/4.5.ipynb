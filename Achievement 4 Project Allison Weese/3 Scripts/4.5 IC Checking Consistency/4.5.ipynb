{
 "cells": [
  {
   "cell_type": "markdown",
   "id": "8dc9ec06-0c1d-476f-8f8f-4a40d2a82dbf",
   "metadata": {},
   "source": [
    "# This Script Contains the Following Data Points\n",
    "# Assignment 4.5 Data Analysis Immersion\n",
    "## 1. Import Libraries & Set File Path\n",
    "## 2. Import Data\n",
    "## 3. Create and Manipulate Test Dataframe\n",
    "## 4. Consistency Checks for Products\n",
    "## 5. Consistency Checks for Orders"
   ]
  },
  {
   "cell_type": "markdown",
   "id": "07abe49e-f7f5-4b7b-a24b-be7d54d9bb97",
   "metadata": {},
   "source": [
    "### 1. Import Libraries & Set File Path"
   ]
  },
  {
   "cell_type": "code",
   "execution_count": 1,
   "id": "264597ee-00db-47d6-8397-4ea678a91b14",
   "metadata": {},
   "outputs": [],
   "source": [
    "# Import Libraries \n",
    "import pandas as pd \n",
    "import numpy as np \n",
    "import os"
   ]
  },
  {
   "cell_type": "code",
   "execution_count": 3,
   "id": "ed723f73-2ff0-49ef-9991-332b32b4ba68",
   "metadata": {},
   "outputs": [],
   "source": [
    "# Set Path\n",
    "path = r'/Users/allisonweese/Documents/Achievement 4 Project Allison Weese/'"
   ]
  },
  {
   "cell_type": "markdown",
   "id": "eb60cddc-6965-40c9-a0ac-ed82c7426ca0",
   "metadata": {},
   "source": [
    "### 2. Import Data"
   ]
  },
  {
   "cell_type": "code",
   "execution_count": 4,
   "id": "16f0e918-086d-4dde-8143-73f45cc9108c",
   "metadata": {},
   "outputs": [],
   "source": [
    "# Import products.csv from original data folder\n",
    "df_prods = pd.read_csv(os.path.join(path, '2 Data', 'Original Data', 'products.csv'), index_col=False)"
   ]
  },
  {
   "cell_type": "code",
   "execution_count": 5,
   "id": "92b6b1ac-477b-4a44-a7df-b8b792f04886",
   "metadata": {},
   "outputs": [],
   "source": [
    "# Import orders.csv from prepared data folder\n",
    "df_ords = pd.read_csv(os.path.join(path, '2 Data', 'Prepared Data', 'orders_wrangledjul16.csv'), index_col=False)"
   ]
  },
  {
   "cell_type": "code",
   "execution_count": 6,
   "id": "58eafbb2-bfd9-4b69-8288-0b4322c29b84",
   "metadata": {},
   "outputs": [
    {
     "name": "stdout",
     "output_type": "stream",
     "text": [
      "         Unnamed: 0      order_id       user_id  order_number  \\\n",
      "count  3.421083e+06  3.421083e+06  3.421083e+06  3.421083e+06   \n",
      "mean   1.710541e+06  1.710542e+06  1.029782e+05  1.715486e+01   \n",
      "std    9.875817e+05  9.875817e+05  5.953372e+04  1.773316e+01   \n",
      "min    0.000000e+00  1.000000e+00  1.000000e+00  1.000000e+00   \n",
      "25%    8.552705e+05  8.552715e+05  5.139400e+04  5.000000e+00   \n",
      "50%    1.710541e+06  1.710542e+06  1.026890e+05  1.100000e+01   \n",
      "75%    2.565812e+06  2.565812e+06  1.543850e+05  2.300000e+01   \n",
      "max    3.421082e+06  3.421083e+06  2.062090e+05  1.000000e+02   \n",
      "\n",
      "       orders_day_of_week  order_hour_of_day  days_since_prior_order  \n",
      "count        3.421083e+06       3.421083e+06            3.214874e+06  \n",
      "mean         2.776219e+00       1.345202e+01            1.111484e+01  \n",
      "std          2.046829e+00       4.226088e+00            9.206737e+00  \n",
      "min          0.000000e+00       0.000000e+00            0.000000e+00  \n",
      "25%          1.000000e+00       1.000000e+01            4.000000e+00  \n",
      "50%          3.000000e+00       1.300000e+01            7.000000e+00  \n",
      "75%          5.000000e+00       1.600000e+01            1.500000e+01  \n",
      "max          6.000000e+00       2.300000e+01            3.000000e+01  \n"
     ]
    }
   ],
   "source": [
    "# Describe order data\n",
    "print(df_ords.describe())"
   ]
  },
  {
   "cell_type": "markdown",
   "id": "8d9ed9d2-3242-43bc-b67e-91a773f77234",
   "metadata": {},
   "source": [
    "### 3. Create and Manipulate Test Dataframe"
   ]
  },
  {
   "cell_type": "code",
   "execution_count": 7,
   "id": "b594e3bc-285f-4a9f-b282-34bc5e7a8d24",
   "metadata": {},
   "outputs": [],
   "source": [
    "# Create test dataframe\n",
    "df_test = pd.DataFrame()"
   ]
  },
  {
   "cell_type": "code",
   "execution_count": 8,
   "id": "21eb14d1-cecd-408d-9a14-e278ac5ef167",
   "metadata": {},
   "outputs": [],
   "source": [
    "# Create a mixed type column\n",
    "df_test['mix'] = ['a', 'b', 1, True]"
   ]
  },
  {
   "cell_type": "code",
   "execution_count": 9,
   "id": "95b1d571-127b-4cff-9a34-f648f131e8e2",
   "metadata": {},
   "outputs": [
    {
     "name": "stdout",
     "output_type": "stream",
     "text": [
      "    mix\n",
      "0     a\n",
      "1     b\n",
      "2     1\n",
      "3  True\n"
     ]
    }
   ],
   "source": [
    "# Check for mixed type column\n",
    "print(df_test.head())"
   ]
  },
  {
   "cell_type": "code",
   "execution_count": 10,
   "id": "06a53f89-4ab7-45ed-96c3-4596379a5a23",
   "metadata": {},
   "outputs": [
    {
     "name": "stdout",
     "output_type": "stream",
     "text": [
      "mix\n"
     ]
    }
   ],
   "source": [
    "# Check for mixed type columns\n",
    "weird = (df_test['mix'].apply(type) != type(df_test['mix'].iloc[0])).any()\n",
    "if weird:\n",
    "    print('mix')"
   ]
  },
  {
   "cell_type": "code",
   "execution_count": 11,
   "id": "d1adef32-e0aa-412d-8aa0-101331fc2a43",
   "metadata": {},
   "outputs": [],
   "source": [
    "# Change to string\n",
    "df_test['mix'] = df_test['mix'].astype('str')"
   ]
  },
  {
   "cell_type": "markdown",
   "id": "c950f834-4deb-45cd-8c14-b7c0e118a333",
   "metadata": {},
   "source": [
    "### 4. Consistency Checks for Products"
   ]
  },
  {
   "cell_type": "code",
   "execution_count": 12,
   "id": "a6ec9b7d-7eb0-429f-a45a-95fc424937b9",
   "metadata": {},
   "outputs": [
    {
     "name": "stdout",
     "output_type": "stream",
     "text": [
      "product_id        0\n",
      "product_name     16\n",
      "aisle_id          0\n",
      "department_id     0\n",
      "prices            0\n",
      "dtype: int64\n"
     ]
    }
   ],
   "source": [
    "# Finding missing observations\n",
    "print(df_prods.isnull().sum())"
   ]
  },
  {
   "cell_type": "code",
   "execution_count": 13,
   "id": "9018b498-35df-4869-8f6d-c68dfbea009d",
   "metadata": {},
   "outputs": [],
   "source": [
    "# Subset to view null values\n",
    "df_nan = df_prods[df_prods['product_name'].isnull() == True]"
   ]
  },
  {
   "cell_type": "code",
   "execution_count": 14,
   "id": "31cdcbbe-1050-4907-9f44-86e8e9789bd9",
   "metadata": {},
   "outputs": [
    {
     "name": "stdout",
     "output_type": "stream",
     "text": [
      "       product_id product_name  aisle_id  department_id  prices\n",
      "33             34          NaN       121             14    12.2\n",
      "68             69          NaN        26              7    11.8\n",
      "115           116          NaN        93              3    10.8\n",
      "261           262          NaN       110             13    12.1\n",
      "525           525          NaN       109             11     1.2\n",
      "1511         1511          NaN        84             16    14.3\n",
      "1780         1780          NaN       126             11    12.3\n",
      "2240         2240          NaN        52              1    14.2\n",
      "2586         2586          NaN       104             13    12.4\n",
      "3159         3159          NaN       126             11    13.1\n",
      "3230         3230          NaN       120             16    14.4\n",
      "3736         3736          NaN        41              8    14.8\n",
      "4283         4283          NaN        77              7    14.4\n",
      "4790         4790          NaN        91             16    14.5\n",
      "38187       38183          NaN        39             12    20.9\n",
      "40444       40440          NaN       120             16    14.8\n"
     ]
    }
   ],
   "source": [
    "# Check\n",
    "print(df_nan)"
   ]
  },
  {
   "cell_type": "code",
   "execution_count": 15,
   "id": "e500889a-dee2-48f3-a417-2f7215b49acd",
   "metadata": {},
   "outputs": [
    {
     "name": "stdout",
     "output_type": "stream",
     "text": [
      "(49693, 5)\n"
     ]
    }
   ],
   "source": [
    "# Check the shape of df_prods\n",
    "print(df_prods.shape)"
   ]
  },
  {
   "cell_type": "code",
   "execution_count": 16,
   "id": "6cad37a3-7bc1-4890-a9fd-952479d61a19",
   "metadata": {},
   "outputs": [],
   "source": [
    "# Create new product dataframe eliminating missing values\n",
    "df_prods_clean = df_prods[df_prods['product_name'].isnull() == False]"
   ]
  },
  {
   "cell_type": "code",
   "execution_count": 17,
   "id": "98de050e-c71b-448a-84ca-8dc10a9a0b99",
   "metadata": {},
   "outputs": [
    {
     "name": "stdout",
     "output_type": "stream",
     "text": [
      "       product_id                                       product_name  \\\n",
      "0               1                         Chocolate Sandwich Cookies   \n",
      "1               2                                   All-Seasons Salt   \n",
      "2               3               Robust Golden Unsweetened Oolong Tea   \n",
      "3               4  Smart Ones Classic Favorites Mini Rigatoni Wit...   \n",
      "4               5                          Green Chile Anytime Sauce   \n",
      "...           ...                                                ...   \n",
      "49688       49684          Vodka, Triple Distilled, Twist of Vanilla   \n",
      "49689       49685                 En Croute Roast Hazelnut Cranberry   \n",
      "49690       49686                                   Artisan Baguette   \n",
      "49691       49687         Smartblend Healthy Metabolism Dry Cat Food   \n",
      "49692       49688                             Fresh Foaming Cleanser   \n",
      "\n",
      "       aisle_id  department_id  prices  \n",
      "0            61             19     5.8  \n",
      "1           104             13     9.3  \n",
      "2            94              7     4.5  \n",
      "3            38              1    10.5  \n",
      "4             5             13     4.3  \n",
      "...         ...            ...     ...  \n",
      "49688       124              5     5.3  \n",
      "49689        42              1     3.1  \n",
      "49690       112              3     7.8  \n",
      "49691        41              8     4.7  \n",
      "49692        73             11    13.5  \n",
      "\n",
      "[49677 rows x 5 columns]\n"
     ]
    }
   ],
   "source": [
    "# Check\n",
    "print(df_prods_clean)"
   ]
  },
  {
   "cell_type": "code",
   "execution_count": 18,
   "id": "f379d542-a442-4f53-a699-db7849ec51df",
   "metadata": {},
   "outputs": [
    {
     "name": "stdout",
     "output_type": "stream",
     "text": [
      "(49677, 5)\n"
     ]
    }
   ],
   "source": [
    "# Check the shape of df_prods_clean\n",
    "print(df_prods_clean.shape)"
   ]
  },
  {
   "cell_type": "code",
   "execution_count": 19,
   "id": "32e13ecf-9478-403a-baea-b062afd90d3b",
   "metadata": {},
   "outputs": [],
   "source": [
    "# Check for duplicates in products dataframe\n",
    "df_dups = df_prods_clean[df_prods_clean.duplicated()]"
   ]
  },
  {
   "cell_type": "code",
   "execution_count": 20,
   "id": "abef080a-0262-4200-b0ac-b80e7837100d",
   "metadata": {},
   "outputs": [
    {
     "name": "stdout",
     "output_type": "stream",
     "text": [
      "       product_id                                       product_name  \\\n",
      "462           462                  Fiber 4g Gummy Dietary Supplement   \n",
      "18459       18458                                         Ranger IPA   \n",
      "26810       26808               Black House Coffee Roasty Stout Beer   \n",
      "35309       35306  Gluten Free Organic Peanut Butter & Chocolate ...   \n",
      "35495       35491                            Adore Forever Body Wash   \n",
      "\n",
      "       aisle_id  department_id  prices  \n",
      "462          70             11     4.8  \n",
      "18459        27              5     9.2  \n",
      "26810        27              5    13.4  \n",
      "35309       121             14     6.8  \n",
      "35495       127             11     9.9  \n"
     ]
    }
   ],
   "source": [
    "# Check\n",
    "print(df_dups)"
   ]
  },
  {
   "cell_type": "code",
   "execution_count": 21,
   "id": "e2cf7f3e-2004-48d2-9621-b790df02e158",
   "metadata": {},
   "outputs": [
    {
     "name": "stdout",
     "output_type": "stream",
     "text": [
      "(49677, 5)\n"
     ]
    }
   ],
   "source": [
    "# Check the shape of df_prods_clean\n",
    "print(df_prods_clean.shape)"
   ]
  },
  {
   "cell_type": "code",
   "execution_count": 22,
   "id": "6da8dc62-9484-4bb6-a172-1e523bde14fe",
   "metadata": {},
   "outputs": [],
   "source": [
    "# Create new df_prods that doesn't contain duplicates\n",
    "df_prods_clean_no_dups = df_prods_clean.drop_duplicates()"
   ]
  },
  {
   "cell_type": "code",
   "execution_count": 23,
   "id": "c4a48e20-dbb6-4ad1-aa2d-a940503ddbaf",
   "metadata": {},
   "outputs": [
    {
     "name": "stdout",
     "output_type": "stream",
     "text": [
      "       product_id                                       product_name  \\\n",
      "0               1                         Chocolate Sandwich Cookies   \n",
      "1               2                                   All-Seasons Salt   \n",
      "2               3               Robust Golden Unsweetened Oolong Tea   \n",
      "3               4  Smart Ones Classic Favorites Mini Rigatoni Wit...   \n",
      "4               5                          Green Chile Anytime Sauce   \n",
      "...           ...                                                ...   \n",
      "49688       49684          Vodka, Triple Distilled, Twist of Vanilla   \n",
      "49689       49685                 En Croute Roast Hazelnut Cranberry   \n",
      "49690       49686                                   Artisan Baguette   \n",
      "49691       49687         Smartblend Healthy Metabolism Dry Cat Food   \n",
      "49692       49688                             Fresh Foaming Cleanser   \n",
      "\n",
      "       aisle_id  department_id  prices  \n",
      "0            61             19     5.8  \n",
      "1           104             13     9.3  \n",
      "2            94              7     4.5  \n",
      "3            38              1    10.5  \n",
      "4             5             13     4.3  \n",
      "...         ...            ...     ...  \n",
      "49688       124              5     5.3  \n",
      "49689        42              1     3.1  \n",
      "49690       112              3     7.8  \n",
      "49691        41              8     4.7  \n",
      "49692        73             11    13.5  \n",
      "\n",
      "[49672 rows x 5 columns]\n"
     ]
    }
   ],
   "source": [
    "# Check\n",
    "print(df_prods_clean_no_dups)"
   ]
  },
  {
   "cell_type": "code",
   "execution_count": 24,
   "id": "598d246e-53d6-47dd-b324-b96f199e8368",
   "metadata": {},
   "outputs": [
    {
     "name": "stdout",
     "output_type": "stream",
     "text": [
      "(49672, 5)\n"
     ]
    }
   ],
   "source": [
    "# Check the shape of df_prods_clean_no_dups\n",
    "print(df_prods_clean_no_dups.shape)"
   ]
  },
  {
   "cell_type": "code",
   "execution_count": 41,
   "id": "be9f7163-11f5-4334-9439-46be6ef3d48a",
   "metadata": {},
   "outputs": [
    {
     "data": {
      "text/html": [
       "<div>\n",
       "<style scoped>\n",
       "    .dataframe tbody tr th:only-of-type {\n",
       "        vertical-align: middle;\n",
       "    }\n",
       "\n",
       "    .dataframe tbody tr th {\n",
       "        vertical-align: top;\n",
       "    }\n",
       "\n",
       "    .dataframe thead th {\n",
       "        text-align: right;\n",
       "    }\n",
       "</style>\n",
       "<table border=\"1\" class=\"dataframe\">\n",
       "  <thead>\n",
       "    <tr style=\"text-align: right;\">\n",
       "      <th></th>\n",
       "      <th>product_id</th>\n",
       "      <th>aisle_id</th>\n",
       "      <th>department_id</th>\n",
       "      <th>prices</th>\n",
       "    </tr>\n",
       "  </thead>\n",
       "  <tbody>\n",
       "    <tr>\n",
       "      <th>count</th>\n",
       "      <td>49672.000000</td>\n",
       "      <td>49672.000000</td>\n",
       "      <td>49672.000000</td>\n",
       "      <td>49672.000000</td>\n",
       "    </tr>\n",
       "    <tr>\n",
       "      <th>mean</th>\n",
       "      <td>24850.349775</td>\n",
       "      <td>67.762442</td>\n",
       "      <td>11.728942</td>\n",
       "      <td>9.993282</td>\n",
       "    </tr>\n",
       "    <tr>\n",
       "      <th>std</th>\n",
       "      <td>14340.705287</td>\n",
       "      <td>38.315784</td>\n",
       "      <td>5.850779</td>\n",
       "      <td>453.615536</td>\n",
       "    </tr>\n",
       "    <tr>\n",
       "      <th>min</th>\n",
       "      <td>1.000000</td>\n",
       "      <td>1.000000</td>\n",
       "      <td>1.000000</td>\n",
       "      <td>1.000000</td>\n",
       "    </tr>\n",
       "    <tr>\n",
       "      <th>25%</th>\n",
       "      <td>12432.750000</td>\n",
       "      <td>35.000000</td>\n",
       "      <td>7.000000</td>\n",
       "      <td>4.100000</td>\n",
       "    </tr>\n",
       "    <tr>\n",
       "      <th>50%</th>\n",
       "      <td>24850.500000</td>\n",
       "      <td>69.000000</td>\n",
       "      <td>13.000000</td>\n",
       "      <td>7.100000</td>\n",
       "    </tr>\n",
       "    <tr>\n",
       "      <th>75%</th>\n",
       "      <td>37268.250000</td>\n",
       "      <td>100.000000</td>\n",
       "      <td>17.000000</td>\n",
       "      <td>11.100000</td>\n",
       "    </tr>\n",
       "    <tr>\n",
       "      <th>max</th>\n",
       "      <td>49688.000000</td>\n",
       "      <td>134.000000</td>\n",
       "      <td>21.000000</td>\n",
       "      <td>99999.000000</td>\n",
       "    </tr>\n",
       "  </tbody>\n",
       "</table>\n",
       "</div>"
      ],
      "text/plain": [
       "         product_id      aisle_id  department_id        prices\n",
       "count  49672.000000  49672.000000   49672.000000  49672.000000\n",
       "mean   24850.349775     67.762442      11.728942      9.993282\n",
       "std    14340.705287     38.315784       5.850779    453.615536\n",
       "min        1.000000      1.000000       1.000000      1.000000\n",
       "25%    12432.750000     35.000000       7.000000      4.100000\n",
       "50%    24850.500000     69.000000      13.000000      7.100000\n",
       "75%    37268.250000    100.000000      17.000000     11.100000\n",
       "max    49688.000000    134.000000      21.000000  99999.000000"
      ]
     },
     "execution_count": 41,
     "metadata": {},
     "output_type": "execute_result"
    }
   ],
   "source": [
    "# Check values\n",
    "df_prods_clean_no_dups.describe()"
   ]
  },
  {
   "cell_type": "code",
   "execution_count": 42,
   "id": "e73d32ea-bef0-4b2b-9d22-5f2115b7b956",
   "metadata": {},
   "outputs": [],
   "source": [
    "# The max value in the prices category appears too high\n",
    "# I will replace this value with 9.9999"
   ]
  },
  {
   "cell_type": "code",
   "execution_count": 45,
   "id": "40358c81-f8a8-4137-80d6-c798ee3c9fe7",
   "metadata": {},
   "outputs": [],
   "source": [
    "# Replace 99999 in the 'prices' column with 9.9999\n",
    "df_prods_clean_no_dups.loc[df_prods_clean_no_dups['prices'] == 99999, 'prices'] = 9.9999"
   ]
  },
  {
   "cell_type": "code",
   "execution_count": 46,
   "id": "a62db25d-e1ab-4378-9ed9-0b126df2fc63",
   "metadata": {},
   "outputs": [
    {
     "data": {
      "text/html": [
       "<div>\n",
       "<style scoped>\n",
       "    .dataframe tbody tr th:only-of-type {\n",
       "        vertical-align: middle;\n",
       "    }\n",
       "\n",
       "    .dataframe tbody tr th {\n",
       "        vertical-align: top;\n",
       "    }\n",
       "\n",
       "    .dataframe thead th {\n",
       "        text-align: right;\n",
       "    }\n",
       "</style>\n",
       "<table border=\"1\" class=\"dataframe\">\n",
       "  <thead>\n",
       "    <tr style=\"text-align: right;\">\n",
       "      <th></th>\n",
       "      <th>product_id</th>\n",
       "      <th>aisle_id</th>\n",
       "      <th>department_id</th>\n",
       "      <th>prices</th>\n",
       "    </tr>\n",
       "  </thead>\n",
       "  <tbody>\n",
       "    <tr>\n",
       "      <th>count</th>\n",
       "      <td>49672.000000</td>\n",
       "      <td>49672.000000</td>\n",
       "      <td>49672.000000</td>\n",
       "      <td>49672.000000</td>\n",
       "    </tr>\n",
       "    <tr>\n",
       "      <th>mean</th>\n",
       "      <td>24850.349775</td>\n",
       "      <td>67.762442</td>\n",
       "      <td>11.728942</td>\n",
       "      <td>7.980297</td>\n",
       "    </tr>\n",
       "    <tr>\n",
       "      <th>std</th>\n",
       "      <td>14340.705287</td>\n",
       "      <td>38.315784</td>\n",
       "      <td>5.850779</td>\n",
       "      <td>66.951831</td>\n",
       "    </tr>\n",
       "    <tr>\n",
       "      <th>min</th>\n",
       "      <td>1.000000</td>\n",
       "      <td>1.000000</td>\n",
       "      <td>1.000000</td>\n",
       "      <td>1.000000</td>\n",
       "    </tr>\n",
       "    <tr>\n",
       "      <th>25%</th>\n",
       "      <td>12432.750000</td>\n",
       "      <td>35.000000</td>\n",
       "      <td>7.000000</td>\n",
       "      <td>4.100000</td>\n",
       "    </tr>\n",
       "    <tr>\n",
       "      <th>50%</th>\n",
       "      <td>24850.500000</td>\n",
       "      <td>69.000000</td>\n",
       "      <td>13.000000</td>\n",
       "      <td>7.100000</td>\n",
       "    </tr>\n",
       "    <tr>\n",
       "      <th>75%</th>\n",
       "      <td>37268.250000</td>\n",
       "      <td>100.000000</td>\n",
       "      <td>17.000000</td>\n",
       "      <td>11.100000</td>\n",
       "    </tr>\n",
       "    <tr>\n",
       "      <th>max</th>\n",
       "      <td>49688.000000</td>\n",
       "      <td>134.000000</td>\n",
       "      <td>21.000000</td>\n",
       "      <td>14900.000000</td>\n",
       "    </tr>\n",
       "  </tbody>\n",
       "</table>\n",
       "</div>"
      ],
      "text/plain": [
       "         product_id      aisle_id  department_id        prices\n",
       "count  49672.000000  49672.000000   49672.000000  49672.000000\n",
       "mean   24850.349775     67.762442      11.728942      7.980297\n",
       "std    14340.705287     38.315784       5.850779     66.951831\n",
       "min        1.000000      1.000000       1.000000      1.000000\n",
       "25%    12432.750000     35.000000       7.000000      4.100000\n",
       "50%    24850.500000     69.000000      13.000000      7.100000\n",
       "75%    37268.250000    100.000000      17.000000     11.100000\n",
       "max    49688.000000    134.000000      21.000000  14900.000000"
      ]
     },
     "execution_count": 46,
     "metadata": {},
     "output_type": "execute_result"
    }
   ],
   "source": [
    "# Check Values\n",
    "df_prods_clean_no_dups.describe()"
   ]
  },
  {
   "cell_type": "code",
   "execution_count": 47,
   "id": "8e60da39-768f-44a6-bebf-b5fdf9643a91",
   "metadata": {},
   "outputs": [],
   "source": [
    "# There is another outlier, 14900\n",
    "# I will replace this value with 1.49"
   ]
  },
  {
   "cell_type": "code",
   "execution_count": 48,
   "id": "a3a7559c-c1bf-4dc3-aa14-2b53e44e4240",
   "metadata": {},
   "outputs": [],
   "source": [
    "# Replace 14900 in the 'prices' column with 1.4900\n",
    "df_prods_clean_no_dups.loc[df_prods_clean_no_dups['prices'] == 14900, 'prices'] = 1.4900"
   ]
  },
  {
   "cell_type": "code",
   "execution_count": 49,
   "id": "b81f11d5-afbe-4790-8f36-d068e9fc24ff",
   "metadata": {},
   "outputs": [
    {
     "data": {
      "text/html": [
       "<div>\n",
       "<style scoped>\n",
       "    .dataframe tbody tr th:only-of-type {\n",
       "        vertical-align: middle;\n",
       "    }\n",
       "\n",
       "    .dataframe tbody tr th {\n",
       "        vertical-align: top;\n",
       "    }\n",
       "\n",
       "    .dataframe thead th {\n",
       "        text-align: right;\n",
       "    }\n",
       "</style>\n",
       "<table border=\"1\" class=\"dataframe\">\n",
       "  <thead>\n",
       "    <tr style=\"text-align: right;\">\n",
       "      <th></th>\n",
       "      <th>product_id</th>\n",
       "      <th>aisle_id</th>\n",
       "      <th>department_id</th>\n",
       "      <th>prices</th>\n",
       "    </tr>\n",
       "  </thead>\n",
       "  <tbody>\n",
       "    <tr>\n",
       "      <th>count</th>\n",
       "      <td>49672.000000</td>\n",
       "      <td>49672.000000</td>\n",
       "      <td>49672.000000</td>\n",
       "      <td>49672.000000</td>\n",
       "    </tr>\n",
       "    <tr>\n",
       "      <th>mean</th>\n",
       "      <td>24850.349775</td>\n",
       "      <td>67.762442</td>\n",
       "      <td>11.728942</td>\n",
       "      <td>7.680359</td>\n",
       "    </tr>\n",
       "    <tr>\n",
       "      <th>std</th>\n",
       "      <td>14340.705287</td>\n",
       "      <td>38.315784</td>\n",
       "      <td>5.850779</td>\n",
       "      <td>4.199401</td>\n",
       "    </tr>\n",
       "    <tr>\n",
       "      <th>min</th>\n",
       "      <td>1.000000</td>\n",
       "      <td>1.000000</td>\n",
       "      <td>1.000000</td>\n",
       "      <td>1.000000</td>\n",
       "    </tr>\n",
       "    <tr>\n",
       "      <th>25%</th>\n",
       "      <td>12432.750000</td>\n",
       "      <td>35.000000</td>\n",
       "      <td>7.000000</td>\n",
       "      <td>4.100000</td>\n",
       "    </tr>\n",
       "    <tr>\n",
       "      <th>50%</th>\n",
       "      <td>24850.500000</td>\n",
       "      <td>69.000000</td>\n",
       "      <td>13.000000</td>\n",
       "      <td>7.100000</td>\n",
       "    </tr>\n",
       "    <tr>\n",
       "      <th>75%</th>\n",
       "      <td>37268.250000</td>\n",
       "      <td>100.000000</td>\n",
       "      <td>17.000000</td>\n",
       "      <td>11.100000</td>\n",
       "    </tr>\n",
       "    <tr>\n",
       "      <th>max</th>\n",
       "      <td>49688.000000</td>\n",
       "      <td>134.000000</td>\n",
       "      <td>21.000000</td>\n",
       "      <td>25.000000</td>\n",
       "    </tr>\n",
       "  </tbody>\n",
       "</table>\n",
       "</div>"
      ],
      "text/plain": [
       "         product_id      aisle_id  department_id        prices\n",
       "count  49672.000000  49672.000000   49672.000000  49672.000000\n",
       "mean   24850.349775     67.762442      11.728942      7.680359\n",
       "std    14340.705287     38.315784       5.850779      4.199401\n",
       "min        1.000000      1.000000       1.000000      1.000000\n",
       "25%    12432.750000     35.000000       7.000000      4.100000\n",
       "50%    24850.500000     69.000000      13.000000      7.100000\n",
       "75%    37268.250000    100.000000      17.000000     11.100000\n",
       "max    49688.000000    134.000000      21.000000     25.000000"
      ]
     },
     "execution_count": 49,
     "metadata": {},
     "output_type": "execute_result"
    }
   ],
   "source": [
    "# Check values one last time\n",
    "df_prods_clean_no_dups.describe()"
   ]
  },
  {
   "cell_type": "code",
   "execution_count": 50,
   "id": "e4bee19f-5ef7-4296-825b-60f24ff7d483",
   "metadata": {},
   "outputs": [],
   "source": [
    "# All values appear correct"
   ]
  },
  {
   "cell_type": "code",
   "execution_count": 51,
   "id": "5cf02447-dffd-4ecf-8d3e-39b119b3fa25",
   "metadata": {},
   "outputs": [],
   "source": [
    "# Export product data without duplicates or missing values\n",
    "df_prods_clean_no_dups.to_csv(os.path.join(path, '2 Data', 'Prepared Data', 'products_checkedjul16.csv'))"
   ]
  },
  {
   "cell_type": "markdown",
   "id": "8d9b3273-032c-435a-b830-b1c71776bf61",
   "metadata": {},
   "source": [
    "### 5. Consistency Checks for Orders"
   ]
  },
  {
   "cell_type": "code",
   "execution_count": 26,
   "id": "63607325-2751-41a1-90c2-5f53cf3bcc20",
   "metadata": {},
   "outputs": [
    {
     "name": "stdout",
     "output_type": "stream",
     "text": [
      "         Unnamed: 0      order_id       user_id  order_number  \\\n",
      "count  3.421083e+06  3.421083e+06  3.421083e+06  3.421083e+06   \n",
      "mean   1.710541e+06  1.710542e+06  1.029782e+05  1.715486e+01   \n",
      "std    9.875817e+05  9.875817e+05  5.953372e+04  1.773316e+01   \n",
      "min    0.000000e+00  1.000000e+00  1.000000e+00  1.000000e+00   \n",
      "25%    8.552705e+05  8.552715e+05  5.139400e+04  5.000000e+00   \n",
      "50%    1.710541e+06  1.710542e+06  1.026890e+05  1.100000e+01   \n",
      "75%    2.565812e+06  2.565812e+06  1.543850e+05  2.300000e+01   \n",
      "max    3.421082e+06  3.421083e+06  2.062090e+05  1.000000e+02   \n",
      "\n",
      "       orders_day_of_week  order_hour_of_day  days_since_prior_order  \n",
      "count        3.421083e+06       3.421083e+06            3.214874e+06  \n",
      "mean         2.776219e+00       1.345202e+01            1.111484e+01  \n",
      "std          2.046829e+00       4.226088e+00            9.206737e+00  \n",
      "min          0.000000e+00       0.000000e+00            0.000000e+00  \n",
      "25%          1.000000e+00       1.000000e+01            4.000000e+00  \n",
      "50%          3.000000e+00       1.300000e+01            7.000000e+00  \n",
      "75%          5.000000e+00       1.600000e+01            1.500000e+01  \n",
      "max          6.000000e+00       2.300000e+01            3.000000e+01  \n"
     ]
    }
   ],
   "source": [
    "# Describe order dataframe\n",
    "print(df_ords.describe())"
   ]
  },
  {
   "cell_type": "code",
   "execution_count": 27,
   "id": "7aeea1a5-9cb1-4132-a2cb-d996f131076c",
   "metadata": {},
   "outputs": [
    {
     "name": "stdout",
     "output_type": "stream",
     "text": [
      "Mixed types in column: Unnamed: 0\n",
      "Mixed types in column: order_id\n",
      "Mixed types in column: user_id\n",
      "Mixed types in column: order_number\n",
      "Mixed types in column: orders_day_of_week\n",
      "Mixed types in column: order_hour_of_day\n",
      "Mixed types in column: days_since_prior_order\n"
     ]
    }
   ],
   "source": [
    "# Check for mixed type columns in df_ords\n",
    "for col in df_ords.columns.tolist():\n",
    "    # Apply type function to each element in the column and check for differences\n",
    "    weird = df_ords[col].map(type) != type(df_ords[col].iloc[0])\n",
    "    if weird.any():\n",
    "        print(f\"Mixed types in column: {col}\")"
   ]
  },
  {
   "cell_type": "code",
   "execution_count": 29,
   "id": "adabb9df-8d5b-4c72-951e-cfa7a93ed708",
   "metadata": {},
   "outputs": [],
   "source": [
    "# Convert columns to appropriate data types\n",
    "df_ords['order_id'] = df_ords['order_id'].astype(str)\n",
    "df_ords['user_id'] = df_ords['user_id'].astype(str)\n",
    "df_ords['order_number'] = df_ords['order_number'].astype(int)\n",
    "df_ords['order_dow'] = df_ords['orders_day_of_week'].astype(int)\n",
    "df_ords['order_hour_of_day'] = df_ords['order_hour_of_day'].astype(int)"
   ]
  },
  {
   "cell_type": "code",
   "execution_count": 30,
   "id": "0bd6a79e-755a-4b7e-8b26-f9e0d9ac8014",
   "metadata": {},
   "outputs": [
    {
     "name": "stdout",
     "output_type": "stream",
     "text": [
      "Missing values in each column:\n",
      "Unnamed: 0                     0\n",
      "order_id                       0\n",
      "user_id                        0\n",
      "eval_set                       0\n",
      "order_number                   0\n",
      "orders_day_of_week             0\n",
      "order_hour_of_day              0\n",
      "days_since_prior_order    206209\n",
      "order_dow                      0\n",
      "dtype: int64\n"
     ]
    }
   ],
   "source": [
    "# Check for missing values\n",
    "missing_values = df_ords.isnull().sum()\n",
    "print(\"Missing values in each column:\")\n",
    "print(missing_values)"
   ]
  },
  {
   "cell_type": "code",
   "execution_count": 31,
   "id": "5972c586-04ba-4da7-90a7-9b568adac7ec",
   "metadata": {},
   "outputs": [],
   "source": [
    "# Calculate the mean of the 'days_since_prior_order' column, excluding NaN values\n",
    "mean_days_since_prior_order = df_ords['days_since_prior_order'].mean()"
   ]
  },
  {
   "cell_type": "code",
   "execution_count": 33,
   "id": "5eecc185-4158-4fcd-a207-1c3bfe2f0f1e",
   "metadata": {},
   "outputs": [],
   "source": [
    "# Calculate the mean of the 'days_since_prior_order' column, excluding NaN values\n",
    "mean_days_since_prior_order = df_ords['days_since_prior_order'].mean()"
   ]
  },
  {
   "cell_type": "code",
   "execution_count": 34,
   "id": "97a44fc2-932b-417d-91d7-479cad9f4b47",
   "metadata": {},
   "outputs": [],
   "source": [
    "# Fill NaN values in 'days_since_prior_order' with the mean value\n",
    "df_ords['days_since_prior_order'] = df_ords['days_since_prior_order'].fillna(mean_days_since_prior_order)"
   ]
  },
  {
   "cell_type": "code",
   "execution_count": 35,
   "id": "b95f765d-fc3b-4ead-aa19-ff07447ef0f4",
   "metadata": {},
   "outputs": [
    {
     "name": "stdout",
     "output_type": "stream",
     "text": [
      "0\n"
     ]
    }
   ],
   "source": [
    "# Check to ensure there are no more NaN values in 'days_since_prior_order'\n",
    "print(df_ords['days_since_prior_order'].isnull().sum())"
   ]
  },
  {
   "cell_type": "code",
   "execution_count": 36,
   "id": "7c74b2bc-eb12-4cbe-a712-c986d3be66a0",
   "metadata": {},
   "outputs": [
    {
     "name": "stdout",
     "output_type": "stream",
     "text": [
      "Missing values in each column:\n",
      "Unnamed: 0                0\n",
      "order_id                  0\n",
      "user_id                   0\n",
      "eval_set                  0\n",
      "order_number              0\n",
      "orders_day_of_week        0\n",
      "order_hour_of_day         0\n",
      "days_since_prior_order    0\n",
      "order_dow                 0\n",
      "dtype: int64\n"
     ]
    }
   ],
   "source": [
    "# Check for missing values\n",
    "missing_values = df_ords.isnull().sum()\n",
    "print(\"Missing values in each column:\")\n",
    "print(missing_values)"
   ]
  },
  {
   "cell_type": "code",
   "execution_count": 37,
   "id": "4f06d09c-d72a-433b-8a50-d6f8b08546ef",
   "metadata": {},
   "outputs": [],
   "source": [
    "# Check for duplicates in df_ords\n",
    "df_dups = df_ords[df_ords.duplicated()]"
   ]
  },
  {
   "cell_type": "code",
   "execution_count": 38,
   "id": "13ac8ff5-94bc-4690-94e0-beeb8b02ebfd",
   "metadata": {},
   "outputs": [
    {
     "name": "stdout",
     "output_type": "stream",
     "text": [
      "Empty DataFrame\n",
      "Columns: [Unnamed: 0, order_id, user_id, eval_set, order_number, orders_day_of_week, order_hour_of_day, days_since_prior_order, order_dow]\n",
      "Index: []\n"
     ]
    }
   ],
   "source": [
    "# Check\n",
    "print(df_dups)"
   ]
  },
  {
   "cell_type": "code",
   "execution_count": 39,
   "id": "9d6132c1-eeab-4e20-ad16-f459d15185bf",
   "metadata": {},
   "outputs": [],
   "source": [
    "# No duplicates"
   ]
  },
  {
   "cell_type": "code",
   "execution_count": 52,
   "id": "8acf79f5-b951-4cec-a7eb-32dba94af37f",
   "metadata": {},
   "outputs": [],
   "source": [
    "# Export orders data set\n",
    "df_ords.to_csv(os.path.join(path, '2 Data', 'Prepared Data', 'orders_checkedjul16.csv'))"
   ]
  },
  {
   "cell_type": "code",
   "execution_count": null,
   "id": "e886fd16-43ac-45bc-8ef1-74080aaf4855",
   "metadata": {},
   "outputs": [],
   "source": [
    "# end notebook"
   ]
  }
 ],
 "metadata": {
  "kernelspec": {
   "display_name": "Python 3 (ipykernel)",
   "language": "python",
   "name": "python3"
  },
  "language_info": {
   "codemirror_mode": {
    "name": "ipython",
    "version": 3
   },
   "file_extension": ".py",
   "mimetype": "text/x-python",
   "name": "python",
   "nbconvert_exporter": "python",
   "pygments_lexer": "ipython3",
   "version": "3.12.4"
  }
 },
 "nbformat": 4,
 "nbformat_minor": 5
}
